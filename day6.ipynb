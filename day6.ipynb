{
 "cells": [
  {
   "cell_type": "code",
   "execution_count": null,
   "id": "ece82386-b47c-45c6-b2c7-167a8da2dd1f",
   "metadata": {},
   "outputs": [],
   "source": [
    "#list\n",
    "#list is mutable(changeable) data type and written in [] where elements are separated by comma\n",
    "#we can also create tuple dictionay inside list\n",
    "#list is like an array"
   ]
  },
  {
   "cell_type": "code",
   "execution_count": 1,
   "id": "b42b6be7-375e-45ea-b3d2-b11baa4a29f8",
   "metadata": {},
   "outputs": [
    {
     "name": "stdout",
     "output_type": "stream",
     "text": [
      "6 <class 'int'>\n"
     ]
    }
   ],
   "source": [
    "l=[1,2,3,4,5]\n",
    "l[0]=6\n",
    "print(l[0],type(l[0]))"
   ]
  },
  {
   "cell_type": "code",
   "execution_count": 2,
   "id": "7fe7ebe8-2583-46a9-99e9-ecf5eb9d905c",
   "metadata": {},
   "outputs": [
    {
     "name": "stdout",
     "output_type": "stream",
     "text": [
      "c <class 'str'>\n"
     ]
    }
   ],
   "source": [
    "#we can also create list inside list\n",
    "l=[1,2,3,4,['a','b','c']]\n",
    "print(l[-1][-1],type(l[4][-1]))"
   ]
  },
  {
   "cell_type": "code",
   "execution_count": 3,
   "id": "cc8c29d8-6ced-4bd3-a6dc-acea88b7548b",
   "metadata": {},
   "outputs": [
    {
     "name": "stdout",
     "output_type": "stream",
     "text": [
      "[1, 2]\n",
      "\n",
      "[1, 3, ['a', 'b', 'c']]\n",
      "\n",
      "[['a', 'b', 'c'], 3, 1]\n",
      "\n"
     ]
    }
   ],
   "source": [
    "#list sclicing\n",
    "print(l[0:2])\n",
    "print()\n",
    "print(l[0::2]) #list sclicing with 3 parameters\n",
    "print()\n",
    "print(l[-1::-2]) #list sclicing with 3 parameters in reverse\n",
    "print()"
   ]
  },
  {
   "cell_type": "code",
   "execution_count": 4,
   "id": "8c32c6e0-ab12-4ff0-ac3f-09ff013bf249",
   "metadata": {},
   "outputs": [
    {
     "name": "stdout",
     "output_type": "stream",
     "text": [
      "5\n",
      "4\n",
      "['a', 'b', 'c']\n",
      "['a', 'b', 'c']\n",
      "4\n",
      "3\n",
      "2\n",
      "1\n",
      "\n",
      "1\n",
      "2\n",
      "3\n",
      "4\n",
      "['a', 'b', 'c']\n"
     ]
    }
   ],
   "source": [
    "#list iteration\n",
    "#using range\n",
    "print(len(l)) #to get lenght of an list\n",
    "for n in range(3,5):\n",
    "    print(l[n])\n",
    "for n in range(-1,-6,-1):\n",
    "        print(l[n])\n",
    "print()\n",
    "#without range\n",
    "for n in l:\n",
    "    print(n)"
   ]
  },
  {
   "cell_type": "code",
   "execution_count": null,
   "id": "3eff24f0-0dd3-4e1c-a440-ba06bc257c97",
   "metadata": {},
   "outputs": [],
   "source": [
    "#tuple----------> syntax(variable=(first element,second elemet,......)\n",
    "#tuple is immutable\n",
    "# Immutable version of a list"
   ]
  },
  {
   "cell_type": "code",
   "execution_count": 10,
   "id": "8955edfb-4f77-4f8e-94e7-50b18577cdee",
   "metadata": {},
   "outputs": [
    {
     "name": "stdout",
     "output_type": "stream",
     "text": [
      "1\n"
     ]
    }
   ],
   "source": [
    "# Creating a tuple\n",
    "t = (1, 2, 3)\n",
    "\n",
    "# Accessing elements\n",
    "print(t[0])  # Output: 1"
   ]
  },
  {
   "cell_type": "code",
   "execution_count": 9,
   "id": "7c7cd059-1778-4aad-9ea4-2a47518611ec",
   "metadata": {},
   "outputs": [
    {
     "name": "stdout",
     "output_type": "stream",
     "text": [
      "('apple', 4.5, True)\n",
      "(1, (2, 3), [4, 5])\n",
      "1 2 3\n"
     ]
    }
   ],
   "source": [
    "# Tuple with mixed data types\n",
    "t2 = (\"apple\", 4.5, True)\n",
    "print(t2)\n",
    "\n",
    "# Nested tuple\n",
    "t3 = (1, (2, 3), [4, 5])\n",
    "print(t3)\n",
    "\n",
    "# Tuple unpacking\n",
    "a, b, c = t\n",
    "print(a, b, c)  # Output: 1 2 3\n"
   ]
  },
  {
   "cell_type": "code",
   "execution_count": null,
   "id": "29609c5f-5426-4c19-a1de-b0d1369359d0",
   "metadata": {},
   "outputs": [],
   "source": [
    "#Set\n",
    "#set is an unordered, mutable collection of unique items.\n",
    "#syntax-------->(variablename={first element,second element,.....)"
   ]
  },
  {
   "cell_type": "code",
   "execution_count": 11,
   "id": "0bcfec97-b6ff-4e2c-8b2b-0d8953fa3060",
   "metadata": {},
   "outputs": [
    {
     "name": "stdout",
     "output_type": "stream",
     "text": [
      "{1, 2, 3} <class 'set'>\n"
     ]
    }
   ],
   "source": [
    "# Creating sets\n",
    "s = {1, 2, 3}\n",
    "print(s,type(s))"
   ]
  },
  {
   "cell_type": "code",
   "execution_count": 12,
   "id": "ccefeaf1-1000-453d-b512-35309fb8b1cb",
   "metadata": {},
   "outputs": [
    {
     "name": "stdout",
     "output_type": "stream",
     "text": [
      "{1, 2, 3, 5}\n"
     ]
    }
   ],
   "source": [
    "# Adding elements\n",
    "s.add(5)\n",
    "print(s)"
   ]
  },
  {
   "cell_type": "code",
   "execution_count": 13,
   "id": "4c2dd71b-923f-437b-9e13-4935690cb1ae",
   "metadata": {},
   "outputs": [
    {
     "name": "stdout",
     "output_type": "stream",
     "text": [
      "{1, 3, 5}\n"
     ]
    }
   ],
   "source": [
    "# Removing elements\n",
    "s.remove(2)\n",
    "print(s)"
   ]
  },
  {
   "cell_type": "code",
   "execution_count": 14,
   "id": "9baddec5-5cc0-40b2-af5f-8729c048955c",
   "metadata": {},
   "outputs": [
    {
     "name": "stdout",
     "output_type": "stream",
     "text": [
      "{1, 2, 3, 4, 5}\n",
      "{3}\n",
      "{1, 2}\n",
      "{1, 2, 4, 5}\n"
     ]
    }
   ],
   "source": [
    "# Set operations\n",
    "a = {1, 2, 3}\n",
    "b = {3, 4, 5}\n",
    "\n",
    "print(a | b)   # Union: {1, 2, 3, 4, 5}\n",
    "print(a & b)   # Intersection: {3}\n",
    "print(a - b)   # Difference: {1, 2}\n",
    "print(a ^ b)   # Symmetric difference: {1, 2, 4, 5}"
   ]
  },
  {
   "cell_type": "code",
   "execution_count": null,
   "id": "fea7015f-06d5-4b6b-b115-764ba15a8dbc",
   "metadata": {},
   "outputs": [],
   "source": [
    "#dictionary\n",
    "#dictionary is an unordered collection of key-value pairs\n",
    "#Keys must be unique and immutable\n",
    "#syntax----------->(variavlename={key1:value1,key2:value2,.......}"
   ]
  },
  {
   "cell_type": "code",
   "execution_count": 17,
   "id": "f105965a-6bf4-457e-8ffc-6cd9cc9ed28a",
   "metadata": {},
   "outputs": [
    {
     "name": "stdout",
     "output_type": "stream",
     "text": [
      "{'name': 'kashaf', 'age': 20}\n"
     ]
    }
   ],
   "source": [
    "# Creating a dictionary\n",
    "d = {\n",
    "    \"name\": \"kashaf\",\n",
    "    \"age\": 20}\n",
    "print(d)"
   ]
  },
  {
   "cell_type": "code",
   "execution_count": 18,
   "id": "32f09378-eea4-41b5-9f3b-b867e7b229c2",
   "metadata": {},
   "outputs": [
    {
     "name": "stdout",
     "output_type": "stream",
     "text": [
      "kashaf\n"
     ]
    }
   ],
   "source": [
    "# Accessing values\n",
    "print(d[\"name\"])  # Output: John"
   ]
  },
  {
   "cell_type": "code",
   "execution_count": 19,
   "id": "5041bead-fb87-48ed-be38-95a41056a35a",
   "metadata": {},
   "outputs": [
    {
     "name": "stdout",
     "output_type": "stream",
     "text": [
      "{'name': 'kashafzahid', 'age': 20, 'grade': 'A'}\n"
     ]
    }
   ],
   "source": [
    "# Adding/updating values\n",
    "d[\"name\"] = \"kashafzahid\"\n",
    "d[\"grade\"] = \"A\"\n",
    "print(d)"
   ]
  },
  {
   "cell_type": "code",
   "execution_count": 20,
   "id": "78039409-15a0-4e9b-8070-f49f3820764b",
   "metadata": {},
   "outputs": [
    {
     "name": "stdout",
     "output_type": "stream",
     "text": [
      "{'name': 'kashafzahid', 'age': 20}\n"
     ]
    }
   ],
   "source": [
    "# Removing a key\n",
    "del d[\"grade\"]\n",
    "print(d)"
   ]
  },
  {
   "cell_type": "code",
   "execution_count": 21,
   "id": "7e57b97b-b672-48e5-a6c1-a9fac2a17dd5",
   "metadata": {},
   "outputs": [
    {
     "name": "stdout",
     "output_type": "stream",
     "text": [
      "name : kashafzahid\n",
      "age : 20\n",
      "dict_keys(['name', 'age'])\n",
      "dict_values(['kashafzahid', 20])\n",
      "dict_items([('name', 'kashafzahid'), ('age', 20)])\n"
     ]
    }
   ],
   "source": [
    "# Iterating over dictionary\n",
    "for key, value in d.items():\n",
    "    print(key, \":\", value)\n",
    "\n",
    "# Dictionary keys, values, items\n",
    "print(d.keys())\n",
    "print(d.values())\n",
    "print(d.items())"
   ]
  }
 ],
 "metadata": {
  "kernelspec": {
   "display_name": "Python 3 (ipykernel)",
   "language": "python",
   "name": "python3"
  },
  "language_info": {
   "codemirror_mode": {
    "name": "ipython",
    "version": 3
   },
   "file_extension": ".py",
   "mimetype": "text/x-python",
   "name": "python",
   "nbconvert_exporter": "python",
   "pygments_lexer": "ipython3",
   "version": "3.12.7"
  }
 },
 "nbformat": 4,
 "nbformat_minor": 5
}
