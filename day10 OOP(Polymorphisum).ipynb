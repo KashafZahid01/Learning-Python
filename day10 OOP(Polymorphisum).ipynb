{
 "cells": [
  {
   "cell_type": "code",
   "execution_count": 2,
   "id": "0045bae8-e656-419c-9818-50ba35536c59",
   "metadata": {},
   "outputs": [
    {
     "name": "stdout",
     "output_type": "stream",
     "text": [
      "Woof!\n",
      "Meow!\n"
     ]
    }
   ],
   "source": [
    "#Polymorphisum------means “many forms.\n",
    "#It allows the same interface (method name) to behave differently for different objects.\n",
    "class Dog:\n",
    "    def speak(self):\n",
    "        return \"Woof!\"\n",
    "\n",
    "class Cat:\n",
    "    def speak(self):\n",
    "        return \"Meow!\"\n",
    "\n",
    "# Polymorphic behavior\n",
    "def animal_sound(animal):\n",
    "    print(animal.speak())\n",
    "\n",
    "d = Dog()\n",
    "c = Cat()\n",
    "\n",
    "animal_sound(d)  # Woof!\n",
    "animal_sound(c)  # Meow!!"
   ]
  },
  {
   "cell_type": "code",
   "execution_count": 5,
   "id": "63fd4658-8e93-4ab6-a784-28d0504aa875",
   "metadata": {},
   "outputs": [
    {
     "name": "stdout",
     "output_type": "stream",
     "text": [
      "wheels:  True True\n",
      "wheels:  True False\n",
      "tracks:  False True\n",
      "tracks:  False False\n"
     ]
    }
   ],
   "source": [
    "class Tracks:\n",
    "    def change_direction(self, left, on):\n",
    "        print(\"tracks: \", left, on)\n",
    "\n",
    "\n",
    "class Wheels:\n",
    "    def change_direction(self, left, on):\n",
    "        print(\"wheels: \", left, on)\n",
    "\n",
    "\n",
    "class Vehicle:\n",
    "    def __init__(self, controller):\n",
    "        self.controller = controller\n",
    "\n",
    "    def turn(self, left):\n",
    "        self.controller.change_direction(left, True)\n",
    "        self.controller.change_direction(left, False)\n",
    "\n",
    "\n",
    "wheeled = Vehicle(Wheels())\n",
    "tracked = Vehicle(Tracks())\n",
    "\n",
    "wheeled.turn(True)\n",
    "tracked.turn(False)\n"
   ]
  },
  {
   "cell_type": "code",
   "execution_count": 6,
   "id": "2e40b6b9-eb0c-41bd-bd43-0843ad0daad9",
   "metadata": {},
   "outputs": [
    {
     "name": "stdout",
     "output_type": "stream",
     "text": [
      "The area is: 15\n",
      "The area is: 50.26548245743669\n"
     ]
    }
   ],
   "source": [
    "import math\n",
    "\n",
    "# Base class\n",
    "class Shape:\n",
    "    def area(self):\n",
    "        raise NotImplementedError(\"Subclasses must implement this method\")\n",
    "\n",
    "# Subclass for Rectangle\n",
    "class Rectangle(Shape):\n",
    "    def __init__(self, width, height):\n",
    "        self.width = width\n",
    "        self.height = height\n",
    "\n",
    "    def area(self):\n",
    "        return self.width * self.height #E\n",
    "\n",
    "# Subclass for Circle\n",
    "class Circle(Shape):\n",
    "    def __init__(self, radius):\n",
    "        self.radius = radius\n",
    "\n",
    "    def area(self):\n",
    "        return math.pi * self.radius ** 2\n",
    "\n",
    "# Function to print area (polymorphic)\n",
    "def print_area(shape):\n",
    "    print(f\"The area is: {shape.area()}\")\n",
    "\n",
    "# Create objects\n",
    "rectangle = Rectangle(5, 3)\n",
    "circle = Circle(4)\n",
    "\n",
    "# Polymorphism in action\n",
    "print_area(rectangle)  # Outputs: The area is: 15\n",
    "print_area(circle)     # Outputs: The area is: 50.27 "
   ]
  },
  {
   "cell_type": "code",
   "execution_count": 7,
   "id": "b397b485-e2ab-439b-b975-d5e2977b07d3",
   "metadata": {},
   "outputs": [
    {
     "name": "stdout",
     "output_type": "stream",
     "text": [
      "Python 101 - 300 pages\n",
      "300\n"
     ]
    }
   ],
   "source": [
    "#Magic Methods / Dunder Methods\n",
    "#special methods in Python that start and end with double underscores (__method__).\n",
    "class Book:\n",
    "    def __init__(self, title, pages):\n",
    "        self.title = title\n",
    "        self.pages = pages\n",
    "\n",
    "    def __str__(self):\n",
    "        return f\"{self.title} - {self.pages} pages\"\n",
    "\n",
    "    def __len__(self):\n",
    "        return self.pages\n",
    "\n",
    "b = Book(\"Python 101\", 300)\n",
    "print(b)        \n",
    "print(len(b))  "
   ]
  },
  {
   "cell_type": "code",
   "execution_count": 5,
   "id": "b02e2421-3836-40b6-8e48-4a716019aef8",
   "metadata": {},
   "outputs": [
    {
     "name": "stdout",
     "output_type": "stream",
     "text": [
      "p1: (1, 2)\n",
      "p2: (3, 4)\n",
      "Add: (4, 6)\n",
      "Sub: (-2, -2)\n",
      "Mul: (3, 6)\n",
      "Div: (1.5, 2.0)\n",
      "== : True\n",
      "!= : True\n",
      "<  : True\n",
      "<= : True\n",
      ">  : True\n",
      ">= : True\n",
      "abs(p1): 2.23606797749979\n",
      "-p1: (-1, -2)\n"
     ]
    }
   ],
   "source": [
    "#Operator Overloading\n",
    "#Operator Overloading allows us to use standard operators (+, >, ==, etc.)\n",
    "\n",
    "class Point:\n",
    "    def __init__(self, x, y):\n",
    "        self.x = x\n",
    "        self.y = y\n",
    "\n",
    "    # + addition\n",
    "    def __add__(self, other):\n",
    "        return Point(self.x + other.x, self.y + other.y)\n",
    "\n",
    "    # - subtraction\n",
    "    def __sub__(self, other):\n",
    "        return Point(self.x - other.x, self.y - other.y)\n",
    "\n",
    "    # * multiplication (scalar)\n",
    "    def __mul__(self, scalar):\n",
    "        return Point(self.x * scalar, self.y * scalar)\n",
    "\n",
    "    # / true division (scalar)\n",
    "    def __truediv__(self, scalar):\n",
    "        return Point(self.x / scalar, self.y / scalar)\n",
    "\n",
    "    # == equality\n",
    "    def __eq__(self, other):\n",
    "        return self.x == other.x and self.y == other.y\n",
    "\n",
    "    # != not equal\n",
    "    def __ne__(self, other):\n",
    "        return not self == other\n",
    "\n",
    "    # < less than (by magnitude)\n",
    "    def __lt__(self, other):\n",
    "        return (self.x**2 + self.y**2) < (other.x**2 + other.y**2)\n",
    "\n",
    "    # <= less than or equal\n",
    "    def __le__(self, other):\n",
    "        return (self.x**2 + self.y**2) <= (other.x**2 + other.y**2)\n",
    "\n",
    "    # > greater than\n",
    "    def __gt__(self, other):\n",
    "        return (self.x**2 + self.y**2) > (other.x**2 + other.y**2)\n",
    "\n",
    "    # >= greater than or equal\n",
    "    def __ge__(self, other):\n",
    "        return (self.x**2 + self.y**2) >= (other.x**2 + other.y**2)\n",
    "\n",
    "    # abs() overload → distance from origin\n",
    "    def __abs__(self):\n",
    "        return (self.x**2 + self.y**2) ** 0.5\n",
    "\n",
    "    # unary negation -Point\n",
    "    def __neg__(self):\n",
    "        return Point(-self.x, -self.y)\n",
    "\n",
    "    # str() → for printing\n",
    "    def __str__(self):\n",
    "        return f\"({self.x}, {self.y})\"\n",
    "\n",
    "p1 = Point(1, 2)\n",
    "p2 = Point(3, 4)\n",
    "\n",
    "print(\"p1:\", p1)         \n",
    "print(\"p2:\", p2)         \n",
    "\n",
    "print(\"Add:\", p1 + p2)     \n",
    "print(\"Sub:\", p1 - p2)     \n",
    "print(\"Mul:\", p1 * 3)     \n",
    "print(\"Div:\", p2 / 2)      \n",
    "\n",
    "print(\"== :\", p1 == Point(1, 2))   \n",
    "print(\"!= :\", p1 != p2)            \n",
    "\n",
    "print(\"<  :\", p1 < p2)     \n",
    "print(\"<= :\", p1 <= p2)   \n",
    "print(\">  :\", p2 > p1)    \n",
    "print(\">= :\", p2 >= p1)    \n",
    "\n",
    "print(\"abs(p1):\", abs(p1))  \n",
    "print(\"-p1:\", -p1)        "
   ]
  },
  {
   "cell_type": "code",
   "execution_count": null,
   "id": "3eb5a5bd-572c-43c2-9b70-dcd6a7cb4cf5",
   "metadata": {},
   "outputs": [],
   "source": []
  }
 ],
 "metadata": {
  "kernelspec": {
   "display_name": "Python 3 (ipykernel)",
   "language": "python",
   "name": "python3"
  },
  "language_info": {
   "codemirror_mode": {
    "name": "ipython",
    "version": 3
   },
   "file_extension": ".py",
   "mimetype": "text/x-python",
   "name": "python",
   "nbconvert_exporter": "python",
   "pygments_lexer": "ipython3",
   "version": "3.12.7"
  }
 },
 "nbformat": 4,
 "nbformat_minor": 5
}
