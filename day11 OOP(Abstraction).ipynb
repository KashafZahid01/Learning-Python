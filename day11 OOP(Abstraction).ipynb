{
 "cells": [
  {
   "cell_type": "code",
   "execution_count": 1,
   "id": "8d9e3b83-a203-4272-bb2c-f11aab5e93e4",
   "metadata": {},
   "outputs": [],
   "source": [
    "#abstraction\n",
    "#Abstract Method----method that has no body — just a name. It must be overridden in child classes.\n",
    "#Abstract Class----like a blueprint it cannot be used directly to make objects, but it forces its subclasses to implement certain methods.\n",
    "#Imagine an abstract class Animal:-----It says every animal must be able to make_sound()\n",
    "#But it doesn’t know what that sound is (dog barks, cat meows)."
   ]
  },
  {
   "cell_type": "code",
   "execution_count": 3,
   "id": "77847e13-1304-4f70-b386-034991d6fbf2",
   "metadata": {},
   "outputs": [
    {
     "name": "stdout",
     "output_type": "stream",
     "text": [
      "Bark!\n",
      "Meow!\n"
     ]
    }
   ],
   "source": [
    "from abc import ABC, abstractmethod\n",
    "\n",
    "class Animal(ABC):  # Abstract class\n",
    "    @abstractmethod\n",
    "    def make_sound(self):  # Abstract method\n",
    "        pass\n",
    "\n",
    "class Dog(Animal):\n",
    "    def make_sound(self):\n",
    "        return \"Bark!\"\n",
    "\n",
    "class Cat(Animal):\n",
    "    def make_sound(self):\n",
    "        return \"Meow!\"\n",
    "\n",
    "# a = Animal()  Error: can't instantiate abstract class\n",
    "d = Dog()\n",
    "print(d.make_sound())# Bark!\n",
    "c=Cat()\n",
    "print(c.make_sound()) #meow"
   ]
  },
  {
   "cell_type": "code",
   "execution_count": 12,
   "id": "d306a44c-68ba-4a58-ad5f-46efce4f7a65",
   "metadata": {},
   "outputs": [
    {
     "name": "stdout",
     "output_type": "stream",
     "text": [
      "<__main__.Empty object at 0x000002152B8E6F90>\n"
     ]
    }
   ],
   "source": [
    "#Empty Class\n",
    "#An empty class is a class with no properties or methods. Used as a placeholder.\n",
    "#The pass statement is used as a placeholder so Python doesn’t raise a syntax error.\n",
    "\n",
    "class Empty:\n",
    "    pass\n",
    "\n",
    "obj = Empty()\n",
    "print(obj)  # <__main__.Empty object at ...>\n"
   ]
  },
  {
   "cell_type": "code",
   "execution_count": 13,
   "id": "8f7056e9-27b2-45c2-bc21-099965944527",
   "metadata": {},
   "outputs": [],
   "source": [
    "#we can expand these empty classes\n",
    "class Student:\n",
    "    pass  # We'll define it later\n",
    "\n",
    "# Later we can expand it\n",
    "Student.name = \"Ali\"\n",
    "Student.age = 20\n"
   ]
  },
  {
   "cell_type": "code",
   "execution_count": 11,
   "id": "3b7e2343-a199-4251-86fa-bf08407101f9",
   "metadata": {},
   "outputs": [
    {
     "name": "stdout",
     "output_type": "stream",
     "text": [
      "Student(name='Ali', age=20, grade='A')\n"
     ]
    }
   ],
   "source": [
    "#Data Class\n",
    "# special kind of class meant only for storing data. It saves you from writing boilerplate code like __init__, __repr__, etc.\n",
    "#Your class only stores data\n",
    "from dataclasses import dataclass\n",
    "\n",
    "@dataclass\n",
    "class Student:\n",
    "    name: str\n",
    "    age: int\n",
    "    grade: str\n",
    "\n",
    "s = Student(\"Ali\", 20, \"A\")\n",
    "print(s) "
   ]
  },
  {
   "cell_type": "code",
   "execution_count": 10,
   "id": "8657fbb2-40ab-4d9b-9e37-90f24d803fc0",
   "metadata": {},
   "outputs": [
    {
     "name": "stdout",
     "output_type": "stream",
     "text": [
      "Area: 15.0\n",
      "Perimeter: 16.0\n"
     ]
    }
   ],
   "source": [
    "from dataclasses import dataclass\n",
    "\n",
    "@dataclass\n",
    "class Rectangle:\n",
    "    length: float\n",
    "    width: float\n",
    "\n",
    "    def area(self):\n",
    "        return self.length * self.width\n",
    "\n",
    "    def perimeter(self):\n",
    "        return 2 * (self.length + self.width)\n",
    "\n",
    "# Create object\n",
    "rect = Rectangle(5.0, 3.0)\n",
    "\n",
    "# Call methods directly\n",
    "print(\"Area:\", rect.area())         \n",
    "print(\"Perimeter:\", rect.perimeter()) "
   ]
  },
  {
   "cell_type": "code",
   "execution_count": 7,
   "id": "34ff0bdb-f0f9-47ee-8e26-e1e1ff18840d",
   "metadata": {},
   "outputs": [
    {
     "name": "stdout",
     "output_type": "stream",
     "text": [
      "Ali is 21 years old\n"
     ]
    }
   ],
   "source": [
    "#Keyword Arguments---you can pass arguments using names, not just position.\n",
    "def greet(name, age):\n",
    "    print(f\"{name} is {age} years old\")\n",
    "\n",
    "greet(\"Ali\", 21)\n"
   ]
  },
  {
   "cell_type": "code",
   "execution_count": 14,
   "id": "de3c0e19-7cbb-4a15-8205-e13ba4249bd1",
   "metadata": {},
   "outputs": [
    {
     "name": "stdout",
     "output_type": "stream",
     "text": [
      "Ali, 18 years old, Grade: A\n",
      "Ali, 18 years old, Grade: A\n",
      "Ali, 18 years old, Grade: A\n"
     ]
    }
   ],
   "source": [
    "#multiple methods of passsing arguments\n",
    "def student(name, age, grade):\n",
    "    print(f\"{name}, {age} years old, Grade: {grade}\")\n",
    "\n",
    "student(\"Ali\", 18, \"A\")                   # Positional\n",
    "student(name=\"Ali\", age=18, grade=\"A\")    # Keyword\n",
    "student(\"Ali\", grade=\"A\", age=18)         # Mixed\n"
   ]
  },
  {
   "cell_type": "code",
   "execution_count": null,
   "id": "2d11d0ae-f9e3-4a98-8956-66edf899bb25",
   "metadata": {},
   "outputs": [],
   "source": []
  }
 ],
 "metadata": {
  "kernelspec": {
   "display_name": "Python 3 (ipykernel)",
   "language": "python",
   "name": "python3"
  },
  "language_info": {
   "codemirror_mode": {
    "name": "ipython",
    "version": 3
   },
   "file_extension": ".py",
   "mimetype": "text/x-python",
   "name": "python",
   "nbconvert_exporter": "python",
   "pygments_lexer": "ipython3",
   "version": "3.12.7"
  }
 },
 "nbformat": 4,
 "nbformat_minor": 5
}
