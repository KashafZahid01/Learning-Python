{
 "cells": [
  {
   "cell_type": "code",
   "execution_count": 4,
   "id": "0af3cb26-de6a-49f5-9a52-d1dde8511d66",
   "metadata": {},
   "outputs": [
    {
     "name": "stdout",
     "output_type": "stream",
     "text": [
      "Data Types(Immutable)\n"
     ]
    }
   ],
   "source": [
    "print(\"Data Types(Immutable)\")\n",
    "#Immutable data type"
   ]
  },
  {
   "cell_type": "code",
   "execution_count": 5,
   "id": "fa76f325-8830-43f1-bf1f-dfd82536ae86",
   "metadata": {},
   "outputs": [
    {
     "name": "stdout",
     "output_type": "stream",
     "text": [
      "Integer:\n",
      "10 <class 'int'>\n"
     ]
    }
   ],
   "source": [
    "#integer\n",
    "print(\"Integer:\")\n",
    "a=10\n",
    "print(a,type(a))"
   ]
  },
  {
   "cell_type": "code",
   "execution_count": 6,
   "id": "31542cbc-94aa-4b91-907f-2e2897c39797",
   "metadata": {},
   "outputs": [
    {
     "name": "stdout",
     "output_type": "stream",
     "text": [
      "Float:\n",
      "5.5 <class 'float'>\n"
     ]
    }
   ],
   "source": [
    "#float\n",
    "print(\"Float:\")\n",
    "a=5.5\n",
    "print(a,type(a))"
   ]
  },
  {
   "cell_type": "code",
   "execution_count": 7,
   "id": "0bb959b0-2b38-434b-af85-abf470822520",
   "metadata": {},
   "outputs": [
    {
     "name": "stdout",
     "output_type": "stream",
     "text": [
      "Complex:\n",
      "(2+3j) <class 'complex'>\n"
     ]
    }
   ],
   "source": [
    "#complex\n",
    "print(\"Complex:\")\n",
    "a=2+3j\n",
    "print(a,type(a))"
   ]
  },
  {
   "cell_type": "code",
   "execution_count": 8,
   "id": "72e79211-b500-46eb-aa29-c33de0ae5d91",
   "metadata": {},
   "outputs": [
    {
     "name": "stdout",
     "output_type": "stream",
     "text": [
      "String:\n",
      "hello! <class 'str'>\n"
     ]
    }
   ],
   "source": [
    "#string\n",
    "print(\"String:\")\n",
    "a='hello!'\n",
    "print(a,type(a))"
   ]
  },
  {
   "cell_type": "code",
   "execution_count": 9,
   "id": "c1f42737-f1ee-414d-b3fe-7942a6333a79",
   "metadata": {},
   "outputs": [
    {
     "name": "stdout",
     "output_type": "stream",
     "text": [
      "Tuple:\n",
      "(10, 'a', 'hello!') <class 'tuple'>\n"
     ]
    }
   ],
   "source": [
    "#tuple\n",
    "print(\"Tuple:\")\n",
    "a=(10,'a',\"hello!\")\n",
    "print(a,type(a))"
   ]
  },
  {
   "cell_type": "code",
   "execution_count": 10,
   "id": "a0a9d099-a933-4cad-9fa4-a7e94529b825",
   "metadata": {},
   "outputs": [
    {
     "name": "stdout",
     "output_type": "stream",
     "text": [
      "Set:\n",
      "{1, 6, 7} <class 'set'>\n"
     ]
    }
   ],
   "source": [
    "#set\n",
    "print(\"Set:\")\n",
    "a={1,6,7}\n",
    "print(a,type(a))"
   ]
  },
  {
   "cell_type": "code",
   "execution_count": 11,
   "id": "f0bf6437-cf7f-41a0-af8b-67c07877c76e",
   "metadata": {},
   "outputs": [
    {
     "name": "stdout",
     "output_type": "stream",
     "text": [
      "Data Types(Mutable)\n"
     ]
    }
   ],
   "source": [
    "print(\"Data Types(Mutable)\")\n",
    "#Mutable data type"
   ]
  },
  {
   "cell_type": "code",
   "execution_count": 12,
   "id": "1ee40b89-0dae-4040-9436-f59af50d9379",
   "metadata": {},
   "outputs": [
    {
     "name": "stdout",
     "output_type": "stream",
     "text": [
      "List:\n",
      "[1, 14, 2] <class 'list'>\n"
     ]
    }
   ],
   "source": [
    "#list\n",
    "print(\"List:\")\n",
    "a=[1,14,'A']\n",
    "a[2]=2\n",
    "print(a,type(a))"
   ]
  },
  {
   "cell_type": "code",
   "execution_count": 15,
   "id": "2bbb3613-760a-47aa-a668-026fa26e2380",
   "metadata": {},
   "outputs": [
    {
     "name": "stdout",
     "output_type": "stream",
     "text": [
      "Dictionary:\n",
      "{'coding language': 'python', 'name': 'KASHAF'} <class 'dict'>\n",
      "After changing\n",
      "{'coding language': 'C++', 'name': 'KASHAF'} <class 'dict'>\n",
      "KASHAF <class 'dict'>\n"
     ]
    }
   ],
   "source": [
    "#dictionary\n",
    "print(\"Dictionary:\")\n",
    "a={\n",
    "    'coding language':'python', 'name':'KASHAF'\n",
    "}\n",
    "print(a,type(a))\n",
    "print(\"After changing\")\n",
    "a['coding language']='C++'\n",
    "print(a,type(a))\n",
    "print(a['name'],type(a))"
   ]
  },
  {
   "cell_type": "code",
   "execution_count": 16,
   "id": "b3ccfe68-0376-41f6-8f38-59511fe0429d",
   "metadata": {},
   "outputs": [
    {
     "name": "stdout",
     "output_type": "stream",
     "text": [
      "How to input data:\n"
     ]
    },
    {
     "name": "stdin",
     "output_type": "stream",
     "text": [
      "Enter value:  2\n"
     ]
    },
    {
     "name": "stdout",
     "output_type": "stream",
     "text": [
      "2 <class 'str'>\n"
     ]
    }
   ],
   "source": [
    "#how to input data from user.....input() function is use to input value from user\n",
    "print(\"How to input data:\")\n",
    "a=input(\"Enter value: \")\n",
    "print(a,type(a)) \n",
    "#data that is entered by user is always an string in python\n",
    "#to solve this problem we use type casting"
   ]
  },
  {
   "cell_type": "code",
   "execution_count": 18,
   "id": "79e4d890-e0f4-4904-9462-f4c49bd72393",
   "metadata": {},
   "outputs": [
    {
     "name": "stdout",
     "output_type": "stream",
     "text": [
      "Typecasting:(into integer)\n"
     ]
    },
    {
     "name": "stdin",
     "output_type": "stream",
     "text": [
      "Enter value:  2\n"
     ]
    },
    {
     "name": "stdout",
     "output_type": "stream",
     "text": [
      "2 <class 'int'>\n"
     ]
    }
   ],
   "source": [
    "#how we use type casting??\n",
    "#int type casting\n",
    "print(\"Typecasting:(into integer)\")\n",
    "a=int(input(\"Enter value: \"))\n",
    "print(a,type(a))"
   ]
  },
  {
   "cell_type": "code",
   "execution_count": 24,
   "id": "9deb12fc-9d28-4edf-80c4-ff0f996c817a",
   "metadata": {},
   "outputs": [
    {
     "name": "stdout",
     "output_type": "stream",
     "text": [
      "Typecasting:(into complex)\n"
     ]
    },
    {
     "name": "stdin",
     "output_type": "stream",
     "text": [
      "Enter value:  2\n"
     ]
    },
    {
     "name": "stdout",
     "output_type": "stream",
     "text": [
      "(2+0j) <class 'complex'>\n"
     ]
    }
   ],
   "source": [
    "#float type casting\n",
    "print(\"Typecasting:(into complex)\")\n",
    "a=complex(input(\"Enter value: \"))\n",
    "print(a,type(a))\n"
   ]
  },
  {
   "cell_type": "code",
   "execution_count": 23,
   "id": "5471fae0-e39e-4f35-96cf-8532e4cc063a",
   "metadata": {},
   "outputs": [
    {
     "name": "stdin",
     "output_type": "stream",
     "text": [
      "Enter value:  3.99999\n"
     ]
    },
    {
     "name": "stdout",
     "output_type": "stream",
     "text": [
      "3.99999 <class 'float'>\n"
     ]
    }
   ],
   "source": [
    "#we can type cast any data type like(int,float,complex,eval...etc)\n",
    "#eval() function can take float, int, binary...\n",
    "a=eval(input(\"Enter value: \"))\n",
    "print(a,type(a))"
   ]
  }
 ],
 "metadata": {
  "kernelspec": {
   "display_name": "Python 3 (ipykernel)",
   "language": "python",
   "name": "python3"
  },
  "language_info": {
   "codemirror_mode": {
    "name": "ipython",
    "version": 3
   },
   "file_extension": ".py",
   "mimetype": "text/x-python",
   "name": "python",
   "nbconvert_exporter": "python",
   "pygments_lexer": "ipython3",
   "version": "3.12.7"
  }
 },
 "nbformat": 4,
 "nbformat_minor": 5
}
