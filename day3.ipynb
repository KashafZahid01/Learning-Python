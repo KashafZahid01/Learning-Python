{
 "cells": [
  {
   "cell_type": "code",
   "execution_count": 4,
   "id": "5b9ed26e-7767-4f9c-a5a7-457f5469f873",
   "metadata": {},
   "outputs": [
    {
     "name": "stdin",
     "output_type": "stream",
     "text": [
      "ENTER VALUE: 2\n"
     ]
    },
    {
     "name": "stdout",
     "output_type": "stream",
     "text": [
      "2  is EVEN NUMBER\n"
     ]
    }
   ],
   "source": [
    "#if statements\n",
    "a=int(input(\"ENTER VALUE:\"))\n",
    "#if statement\n",
    "if a%2==0:\n",
    "    [print(a,\" is EVEN NUMBER\")]\n"
   ]
  },
  {
   "cell_type": "code",
   "execution_count": 5,
   "id": "42b8c2b2-bebf-41fc-9fe6-5269a2e45767",
   "metadata": {},
   "outputs": [
    {
     "name": "stdin",
     "output_type": "stream",
     "text": [
      "ENTER VALUE: 3\n"
     ]
    },
    {
     "name": "stdout",
     "output_type": "stream",
     "text": [
      "ODD NUMBER\n"
     ]
    }
   ],
   "source": [
    "#If else statement\n",
    "b=int(input(\"ENTER VALUE:\"))\n",
    "if b%2==0:\n",
    "    [print(\"EVEN NUMBER\")]\n",
    "else:\n",
    "    [print(\"ODD NUMBER\")]"
   ]
  },
  {
   "cell_type": "code",
   "execution_count": 7,
   "id": "a4732bba-9ad0-4106-ab3a-fc51984ecc36",
   "metadata": {},
   "outputs": [
    {
     "name": "stdin",
     "output_type": "stream",
     "text": [
      "ENTER VALUE: 0\n"
     ]
    },
    {
     "name": "stdout",
     "output_type": "stream",
     "text": [
      "NUMBER IS ZERO\n"
     ]
    }
   ],
   "source": [
    "#if elif else statement\n",
    "c=int(input(\"ENTER VALUE:\"))\n",
    "if c==0:\n",
    "    [print(\"NUMBER IS ZERO\")]\n",
    "elif c%2==0 or c==0:\n",
    "    [print(\"EVEN NUMBER\")]\n",
    "else:\n",
    "    [print(\"ODD NUMBER\")]"
   ]
  },
  {
   "cell_type": "code",
   "execution_count": 21,
   "id": "00563f13-3319-40d7-8653-65541431735b",
   "metadata": {},
   "outputs": [
    {
     "name": "stdin",
     "output_type": "stream",
     "text": [
      "enter year: 2025\n"
     ]
    },
    {
     "name": "stdout",
     "output_type": "stream",
     "text": [
      "This is not a leap year\n"
     ]
    }
   ],
   "source": [
    "#To check leap year\n",
    "#leap year is a yaer inwhich feb has 29 days and that year has 366 days\n",
    "#leap year is fully divisible by 4\n",
    "year=int(input(\"enter year:\"))\n",
    "if year%4==0:\n",
    "  print(\"This is leap year\")\n",
    "else:\n",
    "    print(\"This is not a leap year\")\n"
   ]
  },
  {
   "cell_type": "code",
   "execution_count": 22,
   "id": "ec85a7b5-d678-4983-8468-0beb989be79f",
   "metadata": {},
   "outputs": [
    {
     "name": "stdin",
     "output_type": "stream",
     "text": [
      "enter student marks: 99\n"
     ]
    },
    {
     "name": "stdout",
     "output_type": "stream",
     "text": [
      "grade A\n"
     ]
    }
   ],
   "source": [
    "marks=int(input(\"enter student marks:\"))\n",
    "if marks>=90 and marks<=100:\n",
    "            print(\"grade A\")\n",
    "elif marks>=80 and marks<=89:\n",
    "            print(\"grade B\")\n",
    "elif marks>=70 and marks<=79:\n",
    "            print(\"grade C\")\n",
    "elif marks>=60 and marks<=69:\n",
    "            print(\"grade D\")\n",
    "else:\n",
    "            print(\"F\")"
   ]
  },
  {
   "cell_type": "code",
   "execution_count": null,
   "id": "209c6ff7-bfab-4fbb-b20c-ee2475a2a90d",
   "metadata": {},
   "outputs": [],
   "source": [
    "#loops\n",
    "# 1.for loop.  2.While loop. "
   ]
  },
  {
   "cell_type": "code",
   "execution_count": 12,
   "id": "c5b2cddf-32f4-4a16-b1d4-bc2a1bc8eeac",
   "metadata": {},
   "outputs": [
    {
     "name": "stdout",
     "output_type": "stream",
     "text": [
      "10\n",
      "8\n",
      "6\n",
      "4\n",
      "2\n",
      "\n"
     ]
    }
   ],
   "source": [
    "#for loop:\n",
    "for i in range(10,0,-2): #10 is start value (i=10),condition is 0 (i>0),decrement is -2 (i-=2)\n",
    "    print(i)\n",
    "print()\n",
    "#syntax [range(start value,condition,increment or decrement)]\n",
    "#if range has two parameters first one is start value and other is condition i.e:range(start value,condition) and by default increment is 1\n",
    "#but if range has only one parameter than it is condition i.e:range(condition) than by default start value is 0 and increment is 1....."
   ]
  },
  {
   "cell_type": "code",
   "execution_count": 11,
   "id": "bc818cca-96a9-40c1-bba1-4c9f1e5783f5",
   "metadata": {},
   "outputs": [
    {
     "name": "stdout",
     "output_type": "stream",
     "text": [
      "0\n",
      "1\n",
      "2\n",
      "3\n",
      "4\n",
      "5\n",
      "6\n",
      "7\n",
      "8\n",
      "9\n"
     ]
    }
   ],
   "source": [
    "for n in range(0,10,1): #0 is start value (i=0),condition is 10 (i<10),increment is 1 (i+=1)\n",
    "    print(n)\n",
    "    "
   ]
  },
  {
   "cell_type": "code",
   "execution_count": 20,
   "id": "a435e613-1f8b-4a15-8833-a6ff87d1622f",
   "metadata": {},
   "outputs": [
    {
     "name": "stdin",
     "output_type": "stream",
     "text": [
      "Enter Number to get table: 10\n"
     ]
    },
    {
     "name": "stdout",
     "output_type": "stream",
     "text": [
      "10  *  1 = 10\n",
      "10  *  2 = 20\n",
      "10  *  3 = 30\n",
      "10  *  4 = 40\n",
      "10  *  5 = 50\n",
      "10  *  6 = 60\n",
      "10  *  7 = 70\n",
      "10  *  8 = 80\n",
      "10  *  9 = 90\n",
      "10  *  10 = 100\n"
     ]
    }
   ],
   "source": [
    "#table using for loop\n",
    "number=int(input(\"Enter Number to get table:\"))\n",
    "for i in range(1,11):\n",
    "    print(number,\" * \",i,\"=\",number*i)"
   ]
  },
  {
   "cell_type": "code",
   "execution_count": 10,
   "id": "1f0ad989-4ffe-4537-b463-bce36fd22fd6",
   "metadata": {},
   "outputs": [
    {
     "name": "stdout",
     "output_type": "stream",
     "text": [
      "10\n",
      "8\n",
      "6\n",
      "4\n",
      "2\n",
      "0 .....> afer terminating while loop\n"
     ]
    }
   ],
   "source": [
    "#while loop\n",
    "n=10\n",
    "while n>0 :\n",
    "    print(n)\n",
    "    n-=2\n",
    "\n",
    "print(n,\".....> afer terminating while loop\")\n"
   ]
  }
 ],
 "metadata": {
  "kernelspec": {
   "display_name": "Python 3 (ipykernel)",
   "language": "python",
   "name": "python3"
  },
  "language_info": {
   "codemirror_mode": {
    "name": "ipython",
    "version": 3
   },
   "file_extension": ".py",
   "mimetype": "text/x-python",
   "name": "python",
   "nbconvert_exporter": "python",
   "pygments_lexer": "ipython3",
   "version": "3.12.7"
  }
 },
 "nbformat": 4,
 "nbformat_minor": 5
}
