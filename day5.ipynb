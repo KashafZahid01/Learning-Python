{
 "cells": [
  {
   "cell_type": "code",
   "execution_count": 9,
   "id": "0cdd7b25-f58f-48bc-b6b8-815f7ade8304",
   "metadata": {},
   "outputs": [],
   "source": [
    "#string in detail"
   ]
  },
  {
   "cell_type": "code",
   "execution_count": 8,
   "id": "71993237-5758-4cc8-ba56-7a0f384a464c",
   "metadata": {},
   "outputs": [
    {
     "name": "stdout",
     "output_type": "stream",
     "text": [
      "Kashaf Zahid <class 'str'>\n"
     ]
    }
   ],
   "source": [
    "#string indexing\n",
    "w=\"Kashaf Zahid\"\n",
    "print(w,type(w))"
   ]
  },
  {
   "cell_type": "code",
   "execution_count": 2,
   "id": "99b22a88-1175-438d-9058-4c66e1867195",
   "metadata": {},
   "outputs": [
    {
     "name": "stdout",
     "output_type": "stream",
     "text": [
      "Z\n",
      "Z\n"
     ]
    }
   ],
   "source": [
    "#tO GET 'Z' FROM INDEX NUMBER...as 'Z' is on 7th number so we get 'z' as below\n",
    "print(w[7])\n",
    "print(w[-5])"
   ]
  },
  {
   "cell_type": "code",
   "execution_count": 7,
   "id": "e363b815-9db1-4c3f-9548-47a373949b96",
   "metadata": {},
   "outputs": [
    {
     "name": "stdout",
     "output_type": "stream",
     "text": [
      "12\n",
      "K\n",
      "a\n",
      "s\n",
      "h\n",
      "a\n",
      "f\n",
      " \n",
      "Z\n",
      "a\n",
      "h\n",
      "i\n",
      "d\n",
      "\n",
      "d\n",
      "i\n",
      "h\n",
      "a\n",
      "Z\n",
      " \n",
      "f\n",
      "a\n",
      "h\n",
      "s\n",
      "a\n",
      "K\n",
      "\n",
      "d\n",
      "i\n",
      "h\n",
      "a\n",
      "Z\n",
      " \n",
      "f\n",
      "a\n",
      "h\n",
      "s\n",
      "a\n",
      "K\n",
      "\n"
     ]
    }
   ],
   "source": [
    "#string slicing....>means to print specific part of string word by word.\n",
    "#index number of 'Z' is 7 and string ends at 11,we can print string using range function here\n",
    "#that is used in for loop where 7 is start point and 12 is condition and increment is by-default 1\n",
    "#string iteration  ...> to print every letter separate\n",
    "#method 01\n",
    "t=len(w)\n",
    "print(t)   #gives number of letters in string including space\n",
    "for n in range(t):\n",
    "    print(w[n])\n",
    "print() \n",
    "#to print in reverse (my logic)\n",
    "for n in range(-1,-13,-1):\n",
    "    print(w[n])\n",
    "print()  \n",
    "\n",
    "#to print string in reverse\n",
    "for n in range(t-1, -1, -1):\n",
    "    \n",
    "    print(w[n])\n",
    "print()"
   ]
  },
  {
   "cell_type": "code",
   "execution_count": 3,
   "id": "da19d9c5-f446-4260-a457-15008ed9465a",
   "metadata": {},
   "outputs": [
    {
     "name": "stdout",
     "output_type": "stream",
     "text": [
      "Zahid\n",
      "Ksa ai\n",
      "dihaZ\n",
      "dhZfha\n"
     ]
    }
   ],
   "source": [
    "#slicing from left to right with 2 increment value\n",
    "print(w[7:12])\n",
    "print(w[0::2])\n",
    "\n",
    "#slicing from right to left with -2 increment value\n",
    "print(w[-1:-6:-1])\n",
    "print(w[-1::-2])\n"
   ]
  },
  {
   "cell_type": "code",
   "execution_count": 5,
   "id": "4eca67c0-dbc2-4ea2-9ae3-20aa238c9811",
   "metadata": {},
   "outputs": [
    {
     "name": "stdout",
     "output_type": "stream",
     "text": [
      "d\n",
      "i\n",
      "h\n",
      "a\n",
      "Z\n",
      " \n",
      "f\n",
      "a\n",
      "h\n",
      "s\n",
      "a\n",
      "K\n",
      "\n",
      "K\n",
      "a\n",
      "s\n",
      "h\n",
      "a\n",
      "f\n",
      " \n",
      "Z\n",
      "a\n",
      "h\n",
      "i\n",
      "d\n"
     ]
    }
   ],
   "source": [
    "#method 02\n",
    "for a in w: \n",
    "    print(a)\n",
    "print()\n",
    "\n",
    "#to print string in reverse\n",
    "#firstly reverse the string then print\n",
    "\n",
    "w=w[-1::-1]   #string get reverse\n",
    "#now print\n",
    "\n",
    "for a in w:\n",
    "    print(a)"
   ]
  },
  {
   "cell_type": "code",
   "execution_count": 10,
   "id": "d8b6e3ba-f9ff-497a-a5c9-e43d09151ca8",
   "metadata": {},
   "outputs": [],
   "source": [
    "#strings functions\n",
    "u=\"KashafZahidiqbal\""
   ]
  },
  {
   "cell_type": "code",
   "execution_count": 14,
   "id": "afb1fcc8-f498-4ebc-beb3-dc6191ce3a72",
   "metadata": {},
   "outputs": [
    {
     "name": "stdout",
     "output_type": "stream",
     "text": [
      "kashafzahidiqbal\n",
      "\n"
     ]
    }
   ],
   "source": [
    "# 1.lower() function (will print every letter in lower case)\n",
    "n=u.lower()\n",
    "print(n)\n",
    "print()"
   ]
  },
  {
   "cell_type": "code",
   "execution_count": 15,
   "id": "8cb5046a-de78-45f7-84a3-2c8ce0be2027",
   "metadata": {},
   "outputs": [
    {
     "name": "stdout",
     "output_type": "stream",
     "text": [
      "KASHAFZAHIDIQBAL\n",
      "\n"
     ]
    }
   ],
   "source": [
    "# 2.upper() function (will print every letter in upper case)\n",
    "n=u.upper()\n",
    "print(n)\n",
    "print()"
   ]
  },
  {
   "cell_type": "code",
   "execution_count": 20,
   "id": "034384d9-f71c-4fbe-b5d1-ac0ba7a3926d",
   "metadata": {},
   "outputs": [
    {
     "name": "stdout",
     "output_type": "stream",
     "text": [
      "Kashaf Zahid Iqbal\n",
      "\n"
     ]
    }
   ],
   "source": [
    "# 3.title() function (will print first letter of every word in upper case)\n",
    "u=\"Kashaf zahid iqbal\"\n",
    "n=u.title()\n",
    "print(n)\n",
    "print()"
   ]
  },
  {
   "cell_type": "code",
   "execution_count": 21,
   "id": "a1adf0f2-4bf5-42f5-bcf5-5a877449043f",
   "metadata": {},
   "outputs": [
    {
     "name": "stdout",
     "output_type": "stream",
     "text": [
      "Kashaf zahid iqbal\n",
      "\n"
     ]
    }
   ],
   "source": [
    "#capitalize() function (will print only first letter of first word in upper case)\n",
    "u=\"Kashaf Zahid iqbal\"\n",
    "n=u.capitalize()\n",
    "print(n)\n",
    "print()"
   ]
  },
  {
   "cell_type": "code",
   "execution_count": 22,
   "id": "56a7fb8c-948b-49ad-9872-600b691e7d43",
   "metadata": {},
   "outputs": [
    {
     "name": "stdout",
     "output_type": "stream",
     "text": [
      "1\n",
      "8\n",
      "-1\n"
     ]
    }
   ],
   "source": [
    "#find() function\n",
    "print(u.find('a')) #give index number of first 'a' in string\n",
    "print(u.find('a',5))  #give index number of 'a' coming after 5 index number\n",
    "print(u.find('t')) #return -1 because t is not in string....if letter is not in string then it will return -1"
   ]
  },
  {
   "cell_type": "code",
   "execution_count": 24,
   "id": "56d8a1e2-4ea3-4fa3-8b5d-ed99638bf7a0",
   "metadata": {},
   "outputs": [
    {
     "name": "stdout",
     "output_type": "stream",
     "text": [
      "4\n"
     ]
    }
   ],
   "source": [
    "# index() function\n",
    "print(u.index('a',3)) #same as find\n",
    "#but if you find letter in string through index function which is not in string then it will return error\n",
    "#print(u.index('t'))  #give error here"
   ]
  },
  {
   "cell_type": "code",
   "execution_count": 26,
   "id": "40235aa0-6a15-4785-943e-954b06faee39",
   "metadata": {},
   "outputs": [
    {
     "name": "stdout",
     "output_type": "stream",
     "text": [
      "True\n"
     ]
    }
   ],
   "source": [
    "#isalpha function (check if the string has only alphabets if there is only alphabets without space then it will return true)\n",
    "u=\"K\"\n",
    "print(u.isalpha())"
   ]
  },
  {
   "cell_type": "code",
   "execution_count": 27,
   "id": "5c3ea831-bfda-49dc-980d-e3e97b02514f",
   "metadata": {},
   "outputs": [
    {
     "name": "stdout",
     "output_type": "stream",
     "text": [
      "True\n"
     ]
    }
   ],
   "source": [
    "#isdigit() function (check if the string has only number if there is only number in string without space then it will return true)\n",
    "w=\"1233\"\n",
    "print(w.isdigit())"
   ]
  },
  {
   "cell_type": "code",
   "execution_count": 28,
   "id": "3fa3b40d-915f-4d02-a23b-a1fc37ce7f1c",
   "metadata": {},
   "outputs": [
    {
     "name": "stdout",
     "output_type": "stream",
     "text": [
      "True\n"
     ]
    }
   ],
   "source": [
    "#isalnum() function (check if the string has only alphabets and number both or have alphabets or number only)\n",
    "#if there is only alphabets and number or alphabets or number only in string without space\n",
    "#then it will return true\n",
    "u=\"K\"\n",
    "print(u.isalnum())"
   ]
  },
  {
   "cell_type": "code",
   "execution_count": 29,
   "id": "fe500f13-b3b5-4892-8cd0-6e00f9bf82ca",
   "metadata": {},
   "outputs": [
    {
     "name": "stdout",
     "output_type": "stream",
     "text": [
      "A\n",
      "65\n",
      "𒎙\n"
     ]
    }
   ],
   "source": [
    "#chr() and order()\n",
    "print(chr(65)) #if we pass ASCI number it will return character at that ASCI's value (like A has 65 ASCI value)\n",
    "print(ord('A'))#opposite of chr() function it will return character's ASCI number\n",
    "print(chr(74649))"
   ]
  },
  {
   "cell_type": "code",
   "execution_count": 30,
   "id": "a6230848-ea4e-47a5-a578-9065b02ee0a8",
   "metadata": {},
   "outputs": [
    {
     "name": "stdout",
     "output_type": "stream",
     "text": [
      "kashaf daughter of zahid iqbal\n",
      "\n",
      "kashaf of iqbal zahid daughter\n",
      "\n",
      "kashaf daughter iqbal zahid of\n",
      "\n",
      "kashaf of              iqbal zahid  daughter \n"
     ]
    }
   ],
   "source": [
    "#format() function......used to add desired string inside other string\n",
    "#with empty placeholder.....automatically add (added strings) in sequence inside main string\n",
    "w='kashaf {} {} zahid {}'.format(\"daughter\",\"of\",\"iqbal\")\n",
    "print(w)\n",
    "print()\n",
    "\n",
    "#with numbered placeholder...add added strings according to their positions like \"of\" is at 1 position\n",
    "w='kashaf {1} {2} zahid {0}'.format(\"daughter\",\"of\",\"iqbal\")\n",
    "print(w)\n",
    "print()\n",
    "\n",
    "#with named indexes placeholder....add added string at their variable name point\n",
    "w='kashaf {we} {you} zahid {my}'.format(we=\"daughter\",my=\"of\",you=\"iqbal\")\n",
    "print(w)\n",
    "print()\n",
    "\n",
    "#{1:<10}..this mean add that string(which is at 1 position) in left most side of maximum 10 character string\n",
    "#{1:>10}..this mean add that string(which is at 1 position) in right most side of maximum 10 character string\n",
    "#{1:^10}..this mean add that string(which is at 1 position) in between of maximum 10 character string\n",
    "w='kashaf {1:<10} {2:>10} zahid {0:^10}'.format(\"daughter\",\"of\",\"iqbal\")\n",
    "print(w)"
   ]
  }
 ],
 "metadata": {
  "kernelspec": {
   "display_name": "Python 3 (ipykernel)",
   "language": "python",
   "name": "python3"
  },
  "language_info": {
   "codemirror_mode": {
    "name": "ipython",
    "version": 3
   },
   "file_extension": ".py",
   "mimetype": "text/x-python",
   "name": "python",
   "nbconvert_exporter": "python",
   "pygments_lexer": "ipython3",
   "version": "3.12.7"
  }
 },
 "nbformat": 4,
 "nbformat_minor": 5
}
