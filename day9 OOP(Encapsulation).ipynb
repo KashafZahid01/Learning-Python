{
 "cells": [
  {
   "cell_type": "code",
   "execution_count": 1,
   "id": "31bd102c-4148-4b70-a8db-f572b94e9f6c",
   "metadata": {},
   "outputs": [],
   "source": [
    "#Access Specifiers (Public, Protected, Private)\n",
    "# 1. public-----------Accessible from anywhere\n",
    "#syntax for public -----> self.name\n",
    "# 2.protected-----------Accessible inside class and subclasses\n",
    "#syntax for protected -------> self._name\n",
    "# 3.private----------------\tAccessible only within the class\n",
    "#syntax for private --------> self.__name\n"
   ]
  },
  {
   "cell_type": "code",
   "execution_count": 3,
   "id": "3127b7a2-4aaf-434b-8a3d-b9b605acf0a7",
   "metadata": {},
   "outputs": [
    {
     "name": "stdout",
     "output_type": "stream",
     "text": [
      "1500\n"
     ]
    }
   ],
   "source": [
    "#encapsulation\n",
    "#encapsulation is hiding internal details of an object and only exposing necessary parts via methods.\n",
    "#example\n",
    "class BankAccount:\n",
    "    def __init__(self, balance):\n",
    "        self.__balance = balance  # private (cann't access balance from outside class)\n",
    "\n",
    "    def deposit(self, amount):\n",
    "        if amount > 0:\n",
    "            self.__balance += amount\n",
    "\n",
    "    def get_balance(self):\n",
    "        return self.__balance\n",
    "\n",
    "acc = BankAccount(1000)\n",
    "acc.deposit(500)\n",
    "print(acc.get_balance())  # Output: 1500\n"
   ]
  },
  {
   "cell_type": "code",
   "execution_count": 6,
   "id": "66e175df-4ba1-40aa-932d-80d590b4b1cc",
   "metadata": {},
   "outputs": [
    {
     "name": "stdout",
     "output_type": "stream",
     "text": [
      "hidden\n"
     ]
    }
   ],
   "source": [
    "#Name Mangling\n",
    "#actualling python automatically changes the name of private variables to avoid naming conflicts.\n",
    "class Demo:\n",
    "    def __init__(self):\n",
    "        self.__secret = \"hidden\"\n",
    "\n",
    "d = Demo()\n",
    "print(d._Demo__secret)  # Output: hidden\n",
    "\n",
    "#here Name __secret becomes _Demo__secret internally"
   ]
  },
  {
   "cell_type": "code",
   "execution_count": 7,
   "id": "eea96e83-bfcc-47b6-ab70-33fb1fdbffd8",
   "metadata": {},
   "outputs": [
    {
     "name": "stdout",
     "output_type": "stream",
     "text": [
      "i5, 8GB RAM\n"
     ]
    }
   ],
   "source": [
    "#Inner / Nested Classes--------->class defined inside another class\n",
    "#The inner class is only useful inside the outer class\n",
    "class Laptop:\n",
    "    def __init__(self):\n",
    "        self.brand = \"HP\"\n",
    "        self.cpu = self.CPU()\n",
    "\n",
    "    class CPU:\n",
    "        def specs(self):\n",
    "            print(\"i5, 8GB RAM\")\n",
    "\n",
    "l = Laptop()\n",
    "l.cpu.specs()\n"
   ]
  },
  {
   "cell_type": "code",
   "execution_count": 8,
   "id": "51d460be-6991-4d4b-b881-f13faab7c2af",
   "metadata": {},
   "outputs": [
    {
     "name": "stdout",
     "output_type": "stream",
     "text": [
      "Teaching...\n"
     ]
    }
   ],
   "source": [
    "#Object Relationships: Association, Aggregation, Composition\n",
    "# 1. Association (Loosely Connected)------One class uses another. They are independent.\n",
    "class Teacher:\n",
    "    def teach(self):\n",
    "        print(\"Teaching...\")\n",
    "\n",
    "class Student:\n",
    "    def learn(self, teacher):\n",
    "        teacher.teach()\n",
    "\n",
    "t = Teacher()\n",
    "s = Student()\n",
    "s.learn(t)"
   ]
  },
  {
   "cell_type": "code",
   "execution_count": 9,
   "id": "346c6763-270a-420c-afca-4c41e243aae7",
   "metadata": {},
   "outputs": [
    {
     "name": "stdout",
     "output_type": "stream",
     "text": [
      "Engine starts\n"
     ]
    }
   ],
   "source": [
    "# 2. Aggregation (Has-A, But Can Exist Separately)------class has another class, but both can exist independently\n",
    "class Engine:\n",
    "    def start(self):\n",
    "        print(\"Engine starts\")\n",
    "\n",
    "class Car:\n",
    "    def __init__(self, engine):\n",
    "        self.engine = engine\n",
    "\n",
    "e = Engine()\n",
    "c = Car(e)\n",
    "c.engine.start()"
   ]
  },
  {
   "cell_type": "code",
   "execution_count": 10,
   "id": "f5903f4b-82dd-405d-936e-44cb03c8ce8e",
   "metadata": {},
   "outputs": [
    {
     "name": "stdout",
     "output_type": "stream",
     "text": [
      "Engine starts\n"
     ]
    }
   ],
   "source": [
    "# 3.3. Composition (Has-A, Fully Dependent)--Strong form of Aggregation — if the outer object is destroyed, the inner one also goes.\n",
    "class Engine:\n",
    "    def start(self):\n",
    "        print(\"Engine starts\")\n",
    "\n",
    "class Car:\n",
    "    def __init__(self):\n",
    "        self.engine = Engine()  # Created inside, no outside reference\n",
    "\n",
    "    def drive(self):\n",
    "        self.engine.start()\n",
    "\n",
    "c = Car()\n",
    "c.drive()"
   ]
  }
 ],
 "metadata": {
  "kernelspec": {
   "display_name": "Python 3 (ipykernel)",
   "language": "python",
   "name": "python3"
  },
  "language_info": {
   "codemirror_mode": {
    "name": "ipython",
    "version": 3
   },
   "file_extension": ".py",
   "mimetype": "text/x-python",
   "name": "python",
   "nbconvert_exporter": "python",
   "pygments_lexer": "ipython3",
   "version": "3.12.7"
  }
 },
 "nbformat": 4,
 "nbformat_minor": 5
}
