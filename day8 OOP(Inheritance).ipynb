{
 "cells": [
  {
   "cell_type": "code",
   "execution_count": 1,
   "id": "af768d24-e409-4256-9f2e-066a5a5da703",
   "metadata": {},
   "outputs": [],
   "source": [
    "#Object Oriented Programming in PYTHON"
   ]
  },
  {
   "cell_type": "code",
   "execution_count": 5,
   "id": "c03be1b3-9cb0-46be-a515-fcb59dff8dfd",
   "metadata": {},
   "outputs": [
    {
     "name": "stdout",
     "output_type": "stream",
     "text": [
      "<class 'int'>\n",
      "3\n",
      "<class 'list'>\n",
      "True\n",
      "True\n",
      "140731902143032\n"
     ]
    }
   ],
   "source": [
    "#In Python, everything is an object, even integers, floats, strings, functions, etc\n",
    "x=5\n",
    "print(type(x))\n",
    "print(x.bit_length())\n",
    "\n",
    "y = [1,2,3]\n",
    "print(type(y))\n",
    "y.append(4)\n",
    "\n",
    "#x is an instance of int\n",
    "#y is an instance of list\n",
    "print(isinstance(x, object))\n",
    "print(isinstance(y, object))  "
   ]
  },
  {
   "cell_type": "code",
   "execution_count": 7,
   "id": "5c9c97ba-c32d-4167-90ec-248735e94ddf",
   "metadata": {},
   "outputs": [
    {
     "name": "stdout",
     "output_type": "stream",
     "text": [
      "8\n"
     ]
    }
   ],
   "source": [
    "#class and objects\n",
    "#here calculator is class and calc is its object where add is function in class\n",
    "class Calculator:\n",
    "    def add(self, a, b):\n",
    "        return a + b\n",
    "\n",
    "calc = Calculator()\n",
    "result = calc.add(5, 3)\n",
    "print(result)\n"
   ]
  },
  {
   "cell_type": "code",
   "execution_count": 8,
   "id": "0282b613-099f-46ea-858d-14f4cae66a8d",
   "metadata": {},
   "outputs": [
    {
     "name": "stdout",
     "output_type": "stream",
     "text": [
      "1500\n",
      "1050000\n"
     ]
    }
   ],
   "source": [
    "#init is constructor\n",
    "#self refers to current object\n",
    "#intense variables and class variables\n",
    "#intense variable is inside constructor and unique in every object\n",
    "#class variables declared direclty inside class and same in every object\n",
    "class BankAccount:\n",
    "    def __init__(self, balance):\n",
    "        self.balance = balance\n",
    "\n",
    "    def deposit(self, amount):\n",
    "        self.balance += amount\n",
    "\n",
    "account = BankAccount(1000)\n",
    "account.deposit(500)\n",
    "print(account.balance)\n",
    "obj = BankAccount(1000000)\n",
    "obj.deposit(50000)\n",
    "print(obj.balance)"
   ]
  },
  {
   "cell_type": "code",
   "execution_count": 10,
   "id": "710777bf-696d-4798-9cbf-9a3956ad4957",
   "metadata": {},
   "outputs": [
    {
     "name": "stdout",
     "output_type": "stream",
     "text": [
      "Hello, Sara!\n",
      "Object deleted\n"
     ]
    }
   ],
   "source": [
    "#what is constructor and destructor??\n",
    "#construction is function inside class that automatically runs when you create an object.\n",
    "#destructor is function inside class that automatically runs when the object is destroyed.\n",
    "class Human:\n",
    "    def __init__(self, name):       #constructor (__init__ is the constructor method)\n",
    "        self.name = name\n",
    "        print(f\"Hello, {name}!\")\n",
    "    def __del__(self):             #destructor   (__del__ is the destructor method)\n",
    "        print(\"Object deleted\")\n",
    "\n",
    "h = Human(\"Sara\")  # Output: Hello, Sara!\n",
    "del h  # Output: Object deleted"
   ]
  },
  {
   "cell_type": "code",
   "execution_count": 11,
   "id": "323eeddd-9f70-4088-870b-d924a10939cf",
   "metadata": {},
   "outputs": [],
   "source": [
    "#BUILDINNG BLOCK OF OOP......\n",
    "# 1.INHERITANCE\n",
    "#inheritance allows one class to inherit properties from other class like child from parent\n",
    "#syntax example:\n",
    "class Parent:\n",
    "    # parent class\n",
    "    def parent_method(self):\n",
    "        print(\"This is parent class\")\n",
    "\n",
    "class Child(Parent):\n",
    "    # child class inherits Parent\n",
    "    def child_method(self):\n",
    "        print(\"This is child class\")\n"
   ]
  },
  {
   "cell_type": "code",
   "execution_count": 1,
   "id": "99882397-4c1c-4450-aaf7-b4216eec814b",
   "metadata": {},
   "outputs": [
    {
     "name": "stdout",
     "output_type": "stream",
     "text": [
      "Animal speaks\n",
      "Dog barks\n"
     ]
    }
   ],
   "source": [
    "#type of inheritance\n",
    "# 1.Single Inheritance\n",
    "#A subclass inherits from only one superclass\n",
    "#example\n",
    "class Animal:\n",
    "    def speak(self):\n",
    "        print(\"Animal speaks\")\n",
    "\n",
    "class Dog(Animal):  # Single inheritance\n",
    "    def bark(self):\n",
    "        print(\"Dog barks\")\n",
    "\n",
    "d = Dog()\n",
    "d.speak()  # Inherited method\n",
    "d.bark()   # Own method\n"
   ]
  },
  {
   "cell_type": "code",
   "execution_count": 2,
   "id": "0a3eed9e-ce2e-48cd-8ba3-36a3c6577deb",
   "metadata": {},
   "outputs": [
    {
     "name": "stdout",
     "output_type": "stream",
     "text": [
      "Grandfather’s property\n",
      "Father’s property\n",
      "Son’s property\n"
     ]
    }
   ],
   "source": [
    "# 2. Multilevel Inheritance\n",
    "#class inherits from a child class which itself inherits from another parent class.\n",
    "class Grandfather:\n",
    "    def old_property(self):\n",
    "        print(\"Grandfather’s property\")\n",
    "\n",
    "class Father(Grandfather):\n",
    "    def middle_property(self):\n",
    "        print(\"Father’s property\")\n",
    "\n",
    "class Son(Father):  # Multilevel inheritance\n",
    "    def new_property(self):\n",
    "        print(\"Son’s property\")\n",
    "\n",
    "s = Son()\n",
    "s.old_property()\n",
    "s.middle_property()\n",
    "s.new_property()"
   ]
  },
  {
   "cell_type": "code",
   "execution_count": 3,
   "id": "fb920a3a-396c-4faa-8dd5-e1f61861da27",
   "metadata": {},
   "outputs": [
    {
     "name": "stdout",
     "output_type": "stream",
     "text": [
      "Parent method\n",
      "Child1 method\n",
      "Parent method\n",
      "Child2 method\n"
     ]
    }
   ],
   "source": [
    "# 3.Hierarchical Inheritance\n",
    "#Multiple classes inherit from a single parent class.\n",
    "class Parent:\n",
    "    def show(self):\n",
    "        print(\"Parent method\")\n",
    "\n",
    "class Child1(Parent):\n",
    "    def c1(self):\n",
    "        print(\"Child1 method\")\n",
    "\n",
    "class Child2(Parent):\n",
    "    def c2(self):\n",
    "        print(\"Child2 method\")\n",
    "\n",
    "obj1 = Child1()\n",
    "obj1.show()\n",
    "obj1.c1()\n",
    "\n",
    "obj2 = Child2()\n",
    "obj2.show()\n",
    "obj2.c2()\n"
   ]
  },
  {
   "cell_type": "code",
   "execution_count": 4,
   "id": "b8b81ede-e096-4a8c-bb67-510a2a1dee81",
   "metadata": {},
   "outputs": [
    {
     "name": "stdout",
     "output_type": "stream",
     "text": [
      "Mother cooks\n",
      "Father drives\n",
      "Child plays\n"
     ]
    }
   ],
   "source": [
    "# 4.Multiple Inheritance\n",
    "# class inherits from more than one parent class\n",
    "class Mother:\n",
    "    def cook(self):\n",
    "        print(\"Mother cooks\")\n",
    "\n",
    "class Father:\n",
    "    def drive(self):\n",
    "        print(\"Father drives\")\n",
    "\n",
    "class Child(Mother, Father):  # Multiple inheritance\n",
    "    def play(self):\n",
    "        print(\"Child plays\")\n",
    "\n",
    "c = Child()\n",
    "c.cook()\n",
    "c.drive()\n",
    "c.play()"
   ]
  },
  {
   "cell_type": "code",
   "execution_count": 5,
   "id": "3b8c1907-7d0b-483f-8883-218789970c6e",
   "metadata": {},
   "outputs": [
    {
     "name": "stdout",
     "output_type": "stream",
     "text": [
      "Car is moving on road terrain.\n",
      "Car is a wheeled vehicle with 4 wheels and capacity of 5.\n",
      "Tank is moving on off-road terrain.\n",
      "Tank is a tracked vehicle with a track width of 2.5 meters.\n",
      "Hovercraft is hovering 1.2 meters above the ground.\n",
      "Boat is moving on saltwater.\n",
      "Airplane is flying at an altitude of 12000 meters.\n",
      "Spaceship is traveling through space using liquid fuel.\n"
     ]
    }
   ],
   "source": [
    "class Vehicle:\n",
    "    #parent class\n",
    "    def __init__(self, name, capacity):\n",
    "        self.name = name\n",
    "        self.capacity = capacity\n",
    "\n",
    "    def move(self):\n",
    "        return f\"{self.name} is moving.\"\n",
    "\n",
    "    def description(self):\n",
    "        return f\"{self.name} is a vehicle with a capacity of {self.capacity}.\"\n",
    "\n",
    "# Subclass for land vehicles\n",
    "class LandVehicle(Vehicle):\n",
    "    #child class of vehicle class\n",
    "    def __init__(self, name, capacity, terrain_type):\n",
    "        super().__init__(name, capacity)\n",
    "        self.terrain_type = terrain_type  # e.g., road, off-road, tracks\n",
    "\n",
    "    def move(self):\n",
    "        return f\"{self.name} is moving on {self.terrain_type} terrain.\"\n",
    "\n",
    "# Subclass for water vehicles\n",
    "class WaterVehicle(Vehicle):\n",
    "    #child class of vehicle class\n",
    "    def __init__(self, name, capacity, water_type):\n",
    "        super().__init__(name, capacity)\n",
    "        self.water_type = water_type  # e.g., freshwater, saltwater\n",
    "\n",
    "    def move(self):\n",
    "        return f\"{self.name} is moving on {self.water_type}.\"\n",
    "\n",
    "# Subclass for air vehicles\n",
    "class AirVehicle(Vehicle):\n",
    "    #child class of vehicle class\n",
    "    def __init__(self, name, capacity, altitude_limit):\n",
    "        super().__init__(name, capacity)\n",
    "        self.altitude_limit = altitude_limit\n",
    "\n",
    "    def move(self):\n",
    "        return f\"{self.name} is flying at an altitude of {self.altitude_limit} meters.\"\n",
    "\n",
    "# Subclass for space vehicles\n",
    "class SpaceVehicle(Vehicle):\n",
    "    #child class of vehicle class\n",
    "    def __init__(self, name, capacity, fuel_type):\n",
    "        super().__init__(name, capacity)\n",
    "        self.fuel_type = fuel_type\n",
    "\n",
    "    def move(self):\n",
    "        return f\"{self.name} is traveling through space using {self.fuel_type}.\"\n",
    "\n",
    "# Further subclasses for LandVehicle\n",
    "\n",
    "# Wheeled vehicle\n",
    "class WheeledVehicle(LandVehicle):\n",
    "    #child class of Landvehicle class\n",
    "    def __init__(self, name, capacity, terrain_type, num_wheels):\n",
    "        super().__init__(name, capacity, terrain_type)\n",
    "        self.num_wheels = num_wheels\n",
    "\n",
    "    def description(self):\n",
    "        return f\"{self.name} is a wheeled vehicle with {self.num_wheels} wheels and capacity of {self.capacity}.\"\n",
    "\n",
    "# Tracked vehicle\n",
    "class TrackedVehicle(LandVehicle):\n",
    "    #child class of Landvehicle class\n",
    "    def __init__(self, name, capacity, terrain_type, track_width):\n",
    "        super().__init__(name, capacity, terrain_type)\n",
    "        self.track_width = track_width\n",
    "\n",
    "    def description(self):\n",
    "        return f\"{self.name} is a tracked vehicle with a track width of {self.track_width} meters.\"\n",
    "\n",
    "# Hovercraft\n",
    "class Hovercraft(LandVehicle):\n",
    "    #child class of Landvehicle class\n",
    "    def __init__(self, name, capacity, terrain_type, hover_height):\n",
    "        super().__init__(name, capacity, terrain_type)\n",
    "        self.hover_height = hover_height\n",
    "\n",
    "    def move(self):\n",
    "        return f\"{self.name} is hovering {self.hover_height} meters above the ground.\"\n",
    "\n",
    "# main function\n",
    "if __name__ == \"__main__\":\n",
    "    # Create some vehicle objects\n",
    "    car = WheeledVehicle(\"Car\", 5, \"road\", 4)\n",
    "    tank = TrackedVehicle(\"Tank\", 3, \"off-road\", 2.5)\n",
    "    hovercraft = Hovercraft(\"Hovercraft\", 10, \"water and land\", 1.2)\n",
    "    boat = WaterVehicle(\"Boat\", 50, \"saltwater\")\n",
    "    airplane = AirVehicle(\"Airplane\", 180, 12000)\n",
    "    spaceship = SpaceVehicle(\"Spaceship\", 5, \"liquid fuel\")\n",
    "\n",
    "    # Test the hierarchy\n",
    "    print(car.move())\n",
    "    print(car.description())\n",
    "\n",
    "    print(tank.move())\n",
    "    print(tank.description())\n",
    "\n",
    "    print(hovercraft.move())\n",
    "\n",
    "    print(boat.move())\n",
    "\n",
    "    print(airplane.move())\n",
    "\n",
    "    print(spaceship.move())"
   ]
  },
  {
   "cell_type": "code",
   "execution_count": null,
   "id": "1cbd7d9b-eab0-47b5-8c50-8b4998a37ca5",
   "metadata": {},
   "outputs": [],
   "source": []
  }
 ],
 "metadata": {
  "kernelspec": {
   "display_name": "Python 3 (ipykernel)",
   "language": "python",
   "name": "python3"
  },
  "language_info": {
   "codemirror_mode": {
    "name": "ipython",
    "version": 3
   },
   "file_extension": ".py",
   "mimetype": "text/x-python",
   "name": "python",
   "nbconvert_exporter": "python",
   "pygments_lexer": "ipython3",
   "version": "3.12.7"
  }
 },
 "nbformat": 4,
 "nbformat_minor": 5
}
