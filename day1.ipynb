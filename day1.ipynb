{
 "cells": [
  {
   "cell_type": "code",
   "execution_count": 15,
   "id": "d2d198e4-9ea1-452b-bec2-95fbea6e0519",
   "metadata": {},
   "outputs": [
    {
     "name": "stdout",
     "output_type": "stream",
     "text": [
      "hello\n"
     ]
    }
   ],
   "source": [
    "print(\"hello\")"
   ]
  },
  {
   "cell_type": "code",
   "execution_count": 13,
   "id": "33e4d234-db72-4d02-9ba7-bf5c8e6c2311",
   "metadata": {},
   "outputs": [
    {
     "name": "stdout",
     "output_type": "stream",
     "text": [
      "<class 'str'>\n"
     ]
    }
   ],
   "source": [
    "x='hello'\n",
    "print(type(x))\n"
   ]
  },
  {
   "cell_type": "code",
   "execution_count": 19,
   "id": "b07fb416-639f-4592-b4e3-e029ba5b2bc9",
   "metadata": {},
   "outputs": [
    {
     "name": "stdout",
     "output_type": "stream",
     "text": [
      "10 10 10\n"
     ]
    }
   ],
   "source": [
    "x=y=z=10\n",
    "print(x,y,x)"
   ]
  },
  {
   "cell_type": "code",
   "execution_count": 18,
   "id": "fa59ac28-4c85-4323-ac09-91a06960f134",
   "metadata": {},
   "outputs": [
    {
     "name": "stdin",
     "output_type": "stream",
     "text": [
      "Enter first number: 2\n",
      "Enter second number: 3\n"
     ]
    },
    {
     "name": "stdout",
     "output_type": "stream",
     "text": [
      "sum is: 5\n"
     ]
    }
   ],
   "source": [
    "x=int(input('Enter first number:'))\n",
    "y=int(input('Enter second number:'))\n",
    "print('sum is:',x+y)\n"
   ]
  },
  {
   "cell_type": "code",
   "execution_count": 3,
   "id": "cd286c80-259a-4b75-9ea3-7d13c99ca7ae",
   "metadata": {},
   "outputs": [
    {
     "name": "stdin",
     "output_type": "stream",
     "text": [
      "Enter number: 4\n"
     ]
    },
    {
     "name": "stdout",
     "output_type": "stream",
     "text": [
      "number you entered is even\n"
     ]
    }
   ],
   "source": [
    "x=int(input('Enter number:'))\n",
    "if x%2==0:\n",
    "  print('number you entered is even')\n",
    "else:\n",
    "  print('number you entered is odd')"
   ]
  },
  {
   "cell_type": "code",
   "execution_count": 5,
   "id": "ec0d9b0c-f57c-4fbf-948b-eee0839e80ea",
   "metadata": {},
   "outputs": [
    {
     "name": "stdout",
     "output_type": "stream",
     "text": [
      "20\n",
      "a 10\n",
      "140731339778776 140731339778776\n",
      "hello!\n",
      "1\n"
     ]
    }
   ],
   "source": [
    "a=10\n",
    "b=10\n",
    "print(a+b)  #output...20\n",
    "print('a',a)  #output....a 10\n",
    "print(id(a),id(b)) #output.....same address because have same value\n",
    "\n",
    "c=\"hello!\"\n",
    "print(c)\n",
    "\n",
    "x=1\n",
    "print(x)"
   ]
  },
  {
   "cell_type": "code",
   "execution_count": 6,
   "id": "7d7192b6-0783-4ef6-8eb7-f543031cd761",
   "metadata": {},
   "outputs": [
    {
     "name": "stdout",
     "output_type": "stream",
     "text": [
      "byehello\n",
      "bye hello\n"
     ]
    }
   ],
   "source": [
    "#string concatenation....its means writing two strings together\n",
    "#we cannot concatenate string with int value. only string, concatenate with string.\n",
    "x=\"bye\"\n",
    "y=\"hello\"\n",
    "print(x+y) # + sign is used for concatenation\n",
    "print(x+\" \"+y)  #concatenate three strings here"
   ]
  },
  {
   "cell_type": "code",
   "execution_count": 11,
   "id": "0712d4a3-c4ba-4108-b714-005f58086d9b",
   "metadata": {},
   "outputs": [
    {
     "name": "stdout",
     "output_type": "stream",
     "text": [
      "arithematic operators\n",
      "30\n",
      "-10\n",
      "200\n",
      "0.5\n",
      "0\n",
      "1\n",
      "25\n",
      "2.6666666666666665\n",
      "2\n"
     ]
    }
   ],
   "source": [
    "#arithematic operations(+, -, *, /, //, **, %)\n",
    "print(\"arithematic operators\")\n",
    "a=10\n",
    "b=20\n",
    "print(a+b)\n",
    "print(a-b)\n",
    "print(a*b)\n",
    "print(a/b)\n",
    "print(b%a)\n",
    "print(10%3)\n",
    "print(5**2)\n",
    "print(8/3)\n",
    "print(8//3)"
   ]
  },
  {
   "cell_type": "code",
   "execution_count": 12,
   "id": "d3103300-72f2-4d02-8ca5-e368f297573d",
   "metadata": {},
   "outputs": [
    {
     "name": "stdout",
     "output_type": "stream",
     "text": [
      "assignment operators\n",
      "5\n",
      "8\n",
      "3\n"
     ]
    }
   ],
   "source": [
    "#assignment operators (=, +=, -=)\n",
    "print(\"assignment operators\")\n",
    "x=5\n",
    "print(x)\n",
    "x+=3\n",
    "print(x)\n",
    "x-=5\n",
    "print(x)"
   ]
  },
  {
   "cell_type": "code",
   "execution_count": 13,
   "id": "0122fccb-2a26-4acb-8c75-7fadabfa484a",
   "metadata": {},
   "outputs": [
    {
     "name": "stdout",
     "output_type": "stream",
     "text": [
      "logical operators\n",
      "True\n",
      "True\n",
      "True\n"
     ]
    }
   ],
   "source": [
    "#comparison operator(<, >, ==, <=, >=,!=)\n",
    "#logical operators (and, or, not)\n",
    "print(\"logical operators\")\n",
    "print(a<b and a==10)\n",
    "print(a<b or a==20)\n",
    "print(not (a>b and a==20))"
   ]
  },
  {
   "cell_type": "code",
   "execution_count": 17,
   "id": "04c235bc-50f5-4c89-b091-fbc5fe8825c2",
   "metadata": {},
   "outputs": [
    {
     "name": "stdout",
     "output_type": "stream",
     "text": [
      "membership operators\n",
      "True\n",
      "False\n",
      "True\n",
      "False\n"
     ]
    }
   ],
   "source": [
    "#membership operator (in, not in)\n",
    "print(\"membership operators\")\n",
    "c=\"hello\"\n",
    "print(('h'or 'H') in c)\n",
    "print('z' in c)\n",
    "print('z' not in c)\n",
    "l=[10,20,30]  # l is list\n",
    "print(10 not in l)"
   ]
  },
  {
   "cell_type": "code",
   "execution_count": 15,
   "id": "762a6866-be53-4a48-a044-1a80ace3c592",
   "metadata": {},
   "outputs": [
    {
     "name": "stdout",
     "output_type": "stream",
     "text": [
      "identity operators\n",
      "True\n",
      "False\n"
     ]
    }
   ],
   "source": [
    "#identity operator (is, is not)\n",
    "print(\"identity operators\")\n",
    "print(a is not b) #same as (a!=b)\n",
    "print(a is b) #same as (a==b)"
   ]
  },
  {
   "cell_type": "code",
   "execution_count": 16,
   "id": "44de1fd2-1992-44c4-833b-c3b212954bcc",
   "metadata": {},
   "outputs": [
    {
     "name": "stdout",
     "output_type": "stream",
     "text": [
      "bitwise operators\n",
      "0b1010 0b1000\n",
      "8 0b1000\n",
      "10 0b1010\n",
      "2 0b10\n"
     ]
    }
   ],
   "source": [
    "#bitwise operator(& (for and), |(for or), ^(for xor))\n",
    "print(\"bitwise operators\")\n",
    "k=10\n",
    "t=8\n",
    "print(bin(k),bin(t))\n",
    "print(k&t,bin(k&t))\n",
    "print(k|t,bin(k|t))\n",
    "print(k^t,bin(k^t))"
   ]
  }
 ],
 "metadata": {
  "kernelspec": {
   "display_name": "Python 3 (ipykernel)",
   "language": "python",
   "name": "python3"
  },
  "language_info": {
   "codemirror_mode": {
    "name": "ipython",
    "version": 3
   },
   "file_extension": ".py",
   "mimetype": "text/x-python",
   "name": "python",
   "nbconvert_exporter": "python",
   "pygments_lexer": "ipython3",
   "version": "3.12.7"
  }
 },
 "nbformat": 4,
 "nbformat_minor": 5
}
