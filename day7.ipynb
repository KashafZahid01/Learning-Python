{
 "cells": [
  {
   "cell_type": "code",
   "execution_count": 1,
   "id": "efbc7499-b1e0-4165-b03a-e5c7528fe253",
   "metadata": {},
   "outputs": [],
   "source": [
    "#FUNCTION IN PYTHON\n",
    "#syntax---------->def function_name(parameters):\n",
    "#                         codeblock\n",
    "#                         return results"
   ]
  },
  {
   "cell_type": "code",
   "execution_count": 4,
   "id": "962b2361-beed-482b-8633-f5315aed26f0",
   "metadata": {},
   "outputs": [
    {
     "name": "stdin",
     "output_type": "stream",
     "text": [
      "Enter first number: 2\n",
      "Enter second number: 3\n"
     ]
    },
    {
     "name": "stdout",
     "output_type": "stream",
     "text": [
      "addition: 5\n"
     ]
    }
   ],
   "source": [
    "def add(a, b):\n",
    "    return a + b\n",
    "\n",
    "x=int(input(\"Enter first number:\"))\n",
    "y=int(input(\"Enter second number:\"))\n",
    "result = add(x, y)\n",
    "print(\"addition:\",result)\n"
   ]
  },
  {
   "cell_type": "code",
   "execution_count": 5,
   "id": "d74efedb-0046-470f-b25c-371b29ba16be",
   "metadata": {},
   "outputs": [
    {
     "name": "stdout",
     "output_type": "stream",
     "text": [
      "Inside function: 5\n",
      "Outside function: 10\n"
     ]
    }
   ],
   "source": [
    "x = 10  # Global variable\n",
    "\n",
    "def func():\n",
    "    x = 5  # Local variable\n",
    "    print(\"Inside function:\", x)\n",
    "\n",
    "func()\n",
    "print(\"Outside function:\", x)"
   ]
  },
  {
   "cell_type": "code",
   "execution_count": 9,
   "id": "3afb0f64-62fd-4ab6-8cf1-18d12577c12f",
   "metadata": {},
   "outputs": [
    {
     "name": "stdout",
     "output_type": "stream",
     "text": [
      "20\n"
     ]
    }
   ],
   "source": [
    "#to use global in funtions\n",
    "x = 10\n",
    "\n",
    "def change_global():\n",
    "    global x\n",
    "    x = 20\n",
    "\n",
    "change_global()\n",
    "print(x) "
   ]
  },
  {
   "cell_type": "code",
   "execution_count": 10,
   "id": "8cbd02a1-a905-4cdb-a0bc-8d73cf489217",
   "metadata": {},
   "outputs": [
    {
     "name": "stdout",
     "output_type": "stream",
     "text": [
      "4\n"
     ]
    }
   ],
   "source": [
    "#lambda function\n",
    "#suntax-------->lambda arguments: expression\n",
    "square = lambda x: x * x\n",
    "print(square(2))  # here x become 2 and x*x is 4."
   ]
  },
  {
   "cell_type": "code",
   "execution_count": 5,
   "id": "d862a538-bff2-45f9-b8e7-537e7a225110",
   "metadata": {},
   "outputs": [
    {
     "name": "stdout",
     "output_type": "stream",
     "text": [
      "[(1, 4), (2, 3), (5, 0)]\n"
     ]
    }
   ],
   "source": [
    "#lamda used with sorted\n",
    "pairs = [(2, 3), (1, 4), (5, 0)]\n",
    "sorted_pairs = sorted(pairs, key=lambda x: x[0]) #key elemets are sorted.\n",
    "#here key elements are x[0] means elements at 0 position in each pair in tuple\n",
    "#at 0 index there is 2,1,5 so after sorting it become 1,2,5\n",
    "#so Output: [(1, 4), (2, 3), (5, 0)] \n",
    "print(sorted_pairs)  \n"
   ]
  },
  {
   "cell_type": "code",
   "execution_count": 3,
   "id": "9cb19353-b5e4-4fe9-bd85-3ef3ebd25ba3",
   "metadata": {},
   "outputs": [
    {
     "name": "stdout",
     "output_type": "stream",
     "text": [
      "[1, 4, 9, 16]\n"
     ]
    }
   ],
   "source": [
    "#map function\n",
    "#syntax--------->map(function, iterable)\n",
    "#used instead of loop\n",
    "nums = [1, 2, 3, 4]\n",
    "squares = list(map(lambda x: x**2, nums))\n",
    "print(squares)  # Output: [1, 4, 9, 16]"
   ]
  },
  {
   "cell_type": "code",
   "execution_count": 4,
   "id": "dcfc50f2-d2e7-4e6f-b2ec-4f0bb2281cfe",
   "metadata": {},
   "outputs": [
    {
     "name": "stdout",
     "output_type": "stream",
     "text": [
      "[2, 4]\n"
     ]
    }
   ],
   "source": [
    "#filter function\n",
    "#syntax------------>filter(function, iterable)\n",
    "#It keeps only the elements where the function returns True\n",
    "nums = [1, 2, 3, 4, 5]\n",
    "evens = list(filter(lambda x: x % 2 == 0, nums))\n",
    "print(evens)  # Output: [2, 4]"
   ]
  },
  {
   "cell_type": "code",
   "execution_count": 9,
   "id": "03b8a0d8-7312-4133-b8c7-401579386b56",
   "metadata": {},
   "outputs": [
    {
     "name": "stdout",
     "output_type": "stream",
     "text": [
      "Accessing: outer variable\n"
     ]
    }
   ],
   "source": [
    "#nested or inner funtion \n",
    "#function defined inside another function\n",
    "def myouter():\n",
    "    x = \"outer variable\"\n",
    "    \n",
    "    def myinner():\n",
    "        print(\"Accessing:\", x)\n",
    "    \n",
    "    myinner()\n",
    "\n",
    "myouter()"
   ]
  },
  {
   "cell_type": "code",
   "execution_count": null,
   "id": "e90933fc-2d99-4eb2-a39c-f320397b0dbe",
   "metadata": {},
   "outputs": [],
   "source": [
    "#excption handling\n",
    "#used to  handle errors \n",
    "#type of exceptions---->ZeroDivisionError, ValueError, TypeError\n",
    "#FileNotFoundError, IndexError, KeyError\n",
    "try:\n",
    "    # Code that might raise an exception\n",
    "except ErrorType:\n",
    "    # Code to run if error occurs\n",
    "else:\n",
    "    # Optional: runs if no exception happens\n",
    "finally:\n",
    "    # Optional: always runs, error or not\n",
    "#basic structure"
   ]
  },
  {
   "cell_type": "code",
   "execution_count": 11,
   "id": "bc1a326d-771d-40cc-956f-38071d67af9c",
   "metadata": {},
   "outputs": [
    {
     "name": "stdin",
     "output_type": "stream",
     "text": [
      "Enter number:  0\n"
     ]
    },
    {
     "name": "stdout",
     "output_type": "stream",
     "text": [
      "Something went wrong with input.\n"
     ]
    }
   ],
   "source": [
    "try:\n",
    "    x = int(input(\"Enter number: \"))\n",
    "    y = 10 / x\n",
    "except (ZeroDivisionError, ValueError):\n",
    "    print(\"Something went wrong with input.\")\n"
   ]
  },
  {
   "cell_type": "code",
   "execution_count": 12,
   "id": "7fe1ab94-b4bc-495e-b52b-08db275e28b7",
   "metadata": {},
   "outputs": [
    {
     "name": "stdin",
     "output_type": "stream",
     "text": [
      "Enter numerator:  2\n",
      "Enter denominator:  4\n"
     ]
    },
    {
     "name": "stdout",
     "output_type": "stream",
     "text": [
      "Result is: 0.5\n",
      "Done processing.\n"
     ]
    }
   ],
   "source": [
    "def divide_numbers():\n",
    "    try:\n",
    "        a = int(input(\"Enter numerator: \"))\n",
    "        b = int(input(\"Enter denominator: \"))\n",
    "        result = a / b\n",
    "    except ZeroDivisionError:\n",
    "        print(\"Error: Denominator cannot be zero.\")\n",
    "    except ValueError:\n",
    "        print(\"Error: Invalid input. Please enter numbers.\")\n",
    "    else:\n",
    "        print(\"Result is:\", result)\n",
    "    finally:\n",
    "        print(\"Done processing.\")\n",
    "\n",
    "divide_numbers()\n"
   ]
  }
 ],
 "metadata": {
  "kernelspec": {
   "display_name": "Python 3 (ipykernel)",
   "language": "python",
   "name": "python3"
  },
  "language_info": {
   "codemirror_mode": {
    "name": "ipython",
    "version": 3
   },
   "file_extension": ".py",
   "mimetype": "text/x-python",
   "name": "python",
   "nbconvert_exporter": "python",
   "pygments_lexer": "ipython3",
   "version": "3.12.7"
  }
 },
 "nbformat": 4,
 "nbformat_minor": 5
}
