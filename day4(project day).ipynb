{
 "cells": [
  {
   "cell_type": "code",
   "execution_count": 5,
   "id": "f57a4243-a3e5-4f29-8487-ba23dfb3fb36",
   "metadata": {},
   "outputs": [
    {
     "name": "stdin",
     "output_type": "stream",
     "text": [
      "Enter first integer value: 4\n",
      "Enter second integer value: 2\n",
      "Enter operation sign you want to use: /\n"
     ]
    },
    {
     "name": "stdout",
     "output_type": "stream",
     "text": [
      "division of two integers: 2.0\n"
     ]
    }
   ],
   "source": [
    "#calculator using if elif\n",
    "\n",
    "a=int(input(\"Enter first integer value:\"))\n",
    "b=int(input(\"Enter second integer value:\"))\n",
    "c=input(\"Enter operation sign you want to use:\")\n",
    "\n",
    "if c=='+':\n",
    "    print(\"sum of two integers:\",a+b)\n",
    "elif c=='-':\n",
    "    print(\"difference of two integers:\", a-b)\n",
    "elif c=='*':\n",
    "    print(\"product of two integers:\", a*b)\n",
    "elif c=='/':\n",
    "    print(\"division of two integers:\", a/b)\n",
    "elif c=='%':\n",
    "    print(\"remainder of two integers after division:\", a%b)\n",
    "elif c=='**':\n",
    "    print(\"exponent value of integer first with exponent of second:\", a**b)\n",
    "elif c=='//':\n",
    "    print(\"integer value of two integers after division:\", a//b)\n",
    "else:\n",
    "    print(\"invalid operator sign\")"
   ]
  },
  {
   "cell_type": "code",
   "execution_count": 7,
   "id": "9d0744d3-ddf9-4a64-8343-89a3817ab040",
   "metadata": {},
   "outputs": [
    {
     "name": "stdin",
     "output_type": "stream",
     "text": [
      "enter number 50\n"
     ]
    },
    {
     "name": "stdout",
     "output_type": "stream",
     "text": [
      "50  is less than number\n"
     ]
    },
    {
     "name": "stdin",
     "output_type": "stream",
     "text": [
      "enter number 60\n"
     ]
    },
    {
     "name": "stdout",
     "output_type": "stream",
     "text": [
      "60  is less than number\n"
     ]
    },
    {
     "name": "stdin",
     "output_type": "stream",
     "text": [
      "enter number 70\n"
     ]
    },
    {
     "name": "stdout",
     "output_type": "stream",
     "text": [
      "70  is less than number\n"
     ]
    },
    {
     "name": "stdin",
     "output_type": "stream",
     "text": [
      "enter number 80\n"
     ]
    },
    {
     "name": "stdout",
     "output_type": "stream",
     "text": [
      "80  is greater than number\n"
     ]
    },
    {
     "name": "stdin",
     "output_type": "stream",
     "text": [
      "enter number 75\n"
     ]
    },
    {
     "name": "stdout",
     "output_type": "stream",
     "text": [
      "75  is less than number\n"
     ]
    },
    {
     "name": "stdin",
     "output_type": "stream",
     "text": [
      "enter number 78\n"
     ]
    },
    {
     "name": "stdout",
     "output_type": "stream",
     "text": [
      "78  is greater than number\n"
     ]
    },
    {
     "name": "stdin",
     "output_type": "stream",
     "text": [
      "enter number 77\n"
     ]
    },
    {
     "name": "stdout",
     "output_type": "stream",
     "text": [
      "congragulations you guess the number\n"
     ]
    }
   ],
   "source": [
    "#Guess The Number Game\n",
    "\n",
    "import random\n",
    "numberR=random.randint(1,100)\n",
    "while(1):\n",
    "    usernumber=int(input(\"enter number\"))\n",
    "    if usernumber < numberR:\n",
    "      print(usernumber,\" is less than number\")\n",
    "    elif usernumber > numberR:\n",
    "      print(usernumber,\" is greater than number\")\n",
    "    elif usernumber == numberR:\n",
    "      print(\"congragulations you guess the number\")\n",
    "      break\n"
   ]
  },
  {
   "cell_type": "code",
   "execution_count": 9,
   "id": "abc9fe75-8254-48d3-a283-7310f8f45b1b",
   "metadata": {},
   "outputs": [
    {
     "name": "stdout",
     "output_type": "stream",
     "text": [
      "To play......\n",
      "1 for Rock\n",
      "2 for Paper\n",
      "3 for Scissor\n"
     ]
    },
    {
     "name": "stdin",
     "output_type": "stream",
     "text": [
      "Player 1 choice:  1\n",
      "Player 2 choice:  2\n"
     ]
    },
    {
     "name": "stdout",
     "output_type": "stream",
     "text": [
      "Player 2 wins!\n"
     ]
    }
   ],
   "source": [
    "#rock paper scissor game \n",
    "\n",
    "print(\"To play......\\n1 for Rock\\n2 for Paper\\n3 for Scissor\")\n",
    "\n",
    "player1 = int(input(\"Player 1 choice: \"))\n",
    "player2 = int(input(\"Player 2 choice: \"))\n",
    "\n",
    "# Check for invalid input\n",
    "if player1 not in [1, 2, 3] or player2 not in [1, 2, 3]:\n",
    "    print(\"Invalid number. Please enter 1, 2, or 3.\")\n",
    "elif player1 == player2:\n",
    "    print(\"It's a tie! Try again.\")\n",
    "elif (player1 == 1 and player2 == 3) or \\\n",
    "     (player1 == 2 and player2 == 1) or \\\n",
    "     (player1 == 3 and player2 == 2):\n",
    "    print(\"Player 1 wins!\")\n",
    "else:\n",
    "    print(\"Player 2 wins!\")\n"
   ]
  }
 ],
 "metadata": {
  "kernelspec": {
   "display_name": "Python 3 (ipykernel)",
   "language": "python",
   "name": "python3"
  },
  "language_info": {
   "codemirror_mode": {
    "name": "ipython",
    "version": 3
   },
   "file_extension": ".py",
   "mimetype": "text/x-python",
   "name": "python",
   "nbconvert_exporter": "python",
   "pygments_lexer": "ipython3",
   "version": "3.12.7"
  }
 },
 "nbformat": 4,
 "nbformat_minor": 5
}
